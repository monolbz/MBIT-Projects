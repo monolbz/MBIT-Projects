{
 "cells": [
  {
   "cell_type": "markdown",
   "id": "703a9870-b428-4a86-abb2-5096ec0e8516",
   "metadata": {},
   "source": [
    "## [EJERCICIO 2]\n",
    "\n",
    "La empresa está desarrollando una aplicación a modo TripAdvisor en la que los usuarios van a poder valorar una serie de restaurantes en base a su experiencia. Para que los restaurantes se adieran a la aplicación y quieran compartirla con sus clientes, estos desean saber, en base a sus características, que valoración pueden tener. Para ayudarles, hay que tratar de predecir la valoración (variable rate) que obtendría cada restaurante en base a las variables conocidas:\n",
    "\n",
    "- name: Nombre del restaurante.\n",
    "- online_order:¿Aceptan pedidos en línea? (Verdadero/Falso)\n",
    "- book_table: ¿Podemos reservar mesa en el restaurante?\n",
    "- rate: Valoración que dan los usuarios en la aplicación (variable objetivo).\n",
    "- votes: Número de valoraciones realizadas a un restaurante.\n",
    "- location: Ubicación del restaurante.\n",
    "- rest_type: Tipo de restaurante.\n",
    "- cuisines: Tipo de cocina.\n",
    "- Cost2plate: Coste aproximado de dos platos.\n",
    "- Type: Categoría del restaurante.\n",
    "\n",
    "### La empresa solicita el siguiente informe: (APOYARSE EN GRAFICOS)\n",
    "#### a) Ver el número de restaurantes por cada una de las localizaciones.\n",
    "#### b) Conocer el número de restaurantes que permiten y no permiten pedidos online y aquellos que permiten reservar mesa.\n",
    "#### c) Queremos conocer, mediante una visualización, cual es la distribución de la valoracion de los usuarios en función de si el restaurante permite o no pedidos online.\n",
    "#### d) Queremos conocer, mediante una visualización, cual es la distribución de la valoracion de los usuarios en función de si el restaurante permite o no reservar mesa.\n",
    "#### e) ¿Cual de las dos variables analizadas en los apartados d y C crees que sería más determinante de cara a un modelo de Machine Learning? ¿Por qué?\n",
    "#### f) Realiza las transformaciones que creas necesarias en las variables, explicando cada una de ellas, de cara a crear un modelo de regresión que sea capaz de predecir la valoración de los usuarios.\n",
    "#### g) Aplica un modelo de Regresión de los vistos en clase para tratar de predecir la valoración de los usuarios. Trata de mejorar los resultados aplicando otros modelos. (Regresión Lineal Múltiple, Árboles de Regresión o Random Forest Regressor)\n",
    "#### h) Selecciona el mejor modelo basándote en la métrica del RMSE.\n",
    "\n",
    "##### Deberás entrenar y validar el modelo seleccionado sobre el dataset \"app_restaurantes.csv\".\n",
    "\n",
    "##### Deberás explicar todos los pasos que vayas dando en la resolución del problema."
   ]
  },
  {
   "cell_type": "code",
   "execution_count": 1510,
   "id": "771709f4-5681-428d-829a-46d316f535b5",
   "metadata": {},
   "outputs": [
    {
     "data": {
      "text/html": [
       "<div>\n",
       "<style scoped>\n",
       "    .dataframe tbody tr th:only-of-type {\n",
       "        vertical-align: middle;\n",
       "    }\n",
       "\n",
       "    .dataframe tbody tr th {\n",
       "        vertical-align: top;\n",
       "    }\n",
       "\n",
       "    .dataframe thead th {\n",
       "        text-align: right;\n",
       "    }\n",
       "</style>\n",
       "<table border=\"1\" class=\"dataframe\">\n",
       "  <thead>\n",
       "    <tr style=\"text-align: right;\">\n",
       "      <th></th>\n",
       "      <th>Unnamed: 0</th>\n",
       "      <th>name</th>\n",
       "      <th>online_order</th>\n",
       "      <th>book_table</th>\n",
       "      <th>rate</th>\n",
       "      <th>votes</th>\n",
       "      <th>location</th>\n",
       "      <th>rest_type</th>\n",
       "      <th>cuisines</th>\n",
       "      <th>Cost2plate</th>\n",
       "      <th>Type</th>\n",
       "    </tr>\n",
       "  </thead>\n",
       "  <tbody>\n",
       "    <tr>\n",
       "      <th>0</th>\n",
       "      <td>0</td>\n",
       "      <td>Jalsa</td>\n",
       "      <td>Yes</td>\n",
       "      <td>Yes</td>\n",
       "      <td>4.1/5</td>\n",
       "      <td>775</td>\n",
       "      <td>Banashankari</td>\n",
       "      <td>Casual Dining</td>\n",
       "      <td>North Indian, Mughlai, Chinese</td>\n",
       "      <td>800.0</td>\n",
       "      <td>Buffet</td>\n",
       "    </tr>\n",
       "    <tr>\n",
       "      <th>1</th>\n",
       "      <td>1</td>\n",
       "      <td>Spice Elephant</td>\n",
       "      <td>Yes</td>\n",
       "      <td>No</td>\n",
       "      <td>4.1/5</td>\n",
       "      <td>787</td>\n",
       "      <td>Banashankari</td>\n",
       "      <td>Casual Dining</td>\n",
       "      <td>Chinese, North Indian, Thai</td>\n",
       "      <td>800.0</td>\n",
       "      <td>Buffet</td>\n",
       "    </tr>\n",
       "    <tr>\n",
       "      <th>2</th>\n",
       "      <td>2</td>\n",
       "      <td>San Churro Cafe</td>\n",
       "      <td>Yes</td>\n",
       "      <td>No</td>\n",
       "      <td>3.8/5</td>\n",
       "      <td>918</td>\n",
       "      <td>Banashankari</td>\n",
       "      <td>Cafe, Casual Dining</td>\n",
       "      <td>Cafe, Mexican, Italian</td>\n",
       "      <td>800.0</td>\n",
       "      <td>Buffet</td>\n",
       "    </tr>\n",
       "    <tr>\n",
       "      <th>3</th>\n",
       "      <td>3</td>\n",
       "      <td>Addhuri Udupi Bhojana</td>\n",
       "      <td>No</td>\n",
       "      <td>No</td>\n",
       "      <td>3.7/5</td>\n",
       "      <td>88</td>\n",
       "      <td>Banashankari</td>\n",
       "      <td>Quick Bites</td>\n",
       "      <td>South Indian, North Indian</td>\n",
       "      <td>300.0</td>\n",
       "      <td>Buffet</td>\n",
       "    </tr>\n",
       "    <tr>\n",
       "      <th>4</th>\n",
       "      <td>4</td>\n",
       "      <td>Grand Village</td>\n",
       "      <td>No</td>\n",
       "      <td>No</td>\n",
       "      <td>3.8/5</td>\n",
       "      <td>166</td>\n",
       "      <td>Basavanagudi</td>\n",
       "      <td>Casual Dining</td>\n",
       "      <td>North Indian, Rajasthani</td>\n",
       "      <td>600.0</td>\n",
       "      <td>Buffet</td>\n",
       "    </tr>\n",
       "    <tr>\n",
       "      <th>5</th>\n",
       "      <td>5</td>\n",
       "      <td>Timepass Dinner</td>\n",
       "      <td>Yes</td>\n",
       "      <td>No</td>\n",
       "      <td>3.8/5</td>\n",
       "      <td>286</td>\n",
       "      <td>Basavanagudi</td>\n",
       "      <td>Casual Dining</td>\n",
       "      <td>North Indian</td>\n",
       "      <td>600.0</td>\n",
       "      <td>Buffet</td>\n",
       "    </tr>\n",
       "    <tr>\n",
       "      <th>6</th>\n",
       "      <td>6</td>\n",
       "      <td>Rosewood International Hotel - Bar &amp; Restaurant</td>\n",
       "      <td>No</td>\n",
       "      <td>No</td>\n",
       "      <td>3.6/5</td>\n",
       "      <td>8</td>\n",
       "      <td>Mysore Road</td>\n",
       "      <td>Casual Dining</td>\n",
       "      <td>North Indian, South Indian, Andhra, Chinese</td>\n",
       "      <td>800.0</td>\n",
       "      <td>Buffet</td>\n",
       "    </tr>\n",
       "    <tr>\n",
       "      <th>7</th>\n",
       "      <td>7</td>\n",
       "      <td>Onesta</td>\n",
       "      <td>Yes</td>\n",
       "      <td>Yes</td>\n",
       "      <td>4.6/5</td>\n",
       "      <td>2556</td>\n",
       "      <td>Banashankari</td>\n",
       "      <td>Casual Dining, Cafe</td>\n",
       "      <td>Pizza, Cafe, Italian</td>\n",
       "      <td>600.0</td>\n",
       "      <td>Cafes</td>\n",
       "    </tr>\n",
       "    <tr>\n",
       "      <th>8</th>\n",
       "      <td>8</td>\n",
       "      <td>Penthouse Cafe</td>\n",
       "      <td>Yes</td>\n",
       "      <td>No</td>\n",
       "      <td>4.0/5</td>\n",
       "      <td>324</td>\n",
       "      <td>Banashankari</td>\n",
       "      <td>Cafe</td>\n",
       "      <td>Cafe, Italian, Continental</td>\n",
       "      <td>700.0</td>\n",
       "      <td>Cafes</td>\n",
       "    </tr>\n",
       "    <tr>\n",
       "      <th>9</th>\n",
       "      <td>9</td>\n",
       "      <td>Smacznego</td>\n",
       "      <td>Yes</td>\n",
       "      <td>No</td>\n",
       "      <td>4.2/5</td>\n",
       "      <td>504</td>\n",
       "      <td>Banashankari</td>\n",
       "      <td>Cafe</td>\n",
       "      <td>Cafe, Mexican, Italian, Momos, Beverages</td>\n",
       "      <td>550.0</td>\n",
       "      <td>Cafes</td>\n",
       "    </tr>\n",
       "    <tr>\n",
       "      <th>10</th>\n",
       "      <td>10</td>\n",
       "      <td>CafÃÂÃÂÃÂÃÂÃÂÃÂÃÂÃÂ© Down The A...</td>\n",
       "      <td>Yes</td>\n",
       "      <td>No</td>\n",
       "      <td>4.1/5</td>\n",
       "      <td>402</td>\n",
       "      <td>Banashankari</td>\n",
       "      <td>Cafe</td>\n",
       "      <td>Cafe</td>\n",
       "      <td>500.0</td>\n",
       "      <td>Cafes</td>\n",
       "    </tr>\n",
       "    <tr>\n",
       "      <th>11</th>\n",
       "      <td>11</td>\n",
       "      <td>Cafe Shuffle</td>\n",
       "      <td>Yes</td>\n",
       "      <td>Yes</td>\n",
       "      <td>4.2/5</td>\n",
       "      <td>150</td>\n",
       "      <td>Banashankari</td>\n",
       "      <td>Cafe</td>\n",
       "      <td>Cafe, Italian, Continental</td>\n",
       "      <td>600.0</td>\n",
       "      <td>Cafes</td>\n",
       "    </tr>\n",
       "  </tbody>\n",
       "</table>\n",
       "</div>"
      ],
      "text/plain": [
       "    Unnamed: 0                                               name  \\\n",
       "0            0                                              Jalsa   \n",
       "1            1                                     Spice Elephant   \n",
       "2            2                                    San Churro Cafe   \n",
       "3            3                              Addhuri Udupi Bhojana   \n",
       "4            4                                      Grand Village   \n",
       "5            5                                    Timepass Dinner   \n",
       "6            6    Rosewood International Hotel - Bar & Restaurant   \n",
       "7            7                                             Onesta   \n",
       "8            8                                     Penthouse Cafe   \n",
       "9            9                                          Smacznego   \n",
       "10          10  CafÃÂÃÂÃÂÃÂÃÂÃÂÃÂÃÂ© Down The A...   \n",
       "11          11                                       Cafe Shuffle   \n",
       "\n",
       "   online_order book_table   rate  votes      location            rest_type  \\\n",
       "0           Yes        Yes  4.1/5    775  Banashankari        Casual Dining   \n",
       "1           Yes         No  4.1/5    787  Banashankari        Casual Dining   \n",
       "2           Yes         No  3.8/5    918  Banashankari  Cafe, Casual Dining   \n",
       "3            No         No  3.7/5     88  Banashankari          Quick Bites   \n",
       "4            No         No  3.8/5    166  Basavanagudi        Casual Dining   \n",
       "5           Yes         No  3.8/5    286  Basavanagudi        Casual Dining   \n",
       "6            No         No  3.6/5      8   Mysore Road        Casual Dining   \n",
       "7           Yes        Yes  4.6/5   2556  Banashankari  Casual Dining, Cafe   \n",
       "8           Yes         No  4.0/5    324  Banashankari                 Cafe   \n",
       "9           Yes         No  4.2/5    504  Banashankari                 Cafe   \n",
       "10          Yes         No  4.1/5    402  Banashankari                 Cafe   \n",
       "11          Yes        Yes  4.2/5    150  Banashankari                 Cafe   \n",
       "\n",
       "                                       cuisines  Cost2plate    Type  \n",
       "0                North Indian, Mughlai, Chinese       800.0  Buffet  \n",
       "1                   Chinese, North Indian, Thai       800.0  Buffet  \n",
       "2                        Cafe, Mexican, Italian       800.0  Buffet  \n",
       "3                    South Indian, North Indian       300.0  Buffet  \n",
       "4                      North Indian, Rajasthani       600.0  Buffet  \n",
       "5                                  North Indian       600.0  Buffet  \n",
       "6   North Indian, South Indian, Andhra, Chinese       800.0  Buffet  \n",
       "7                          Pizza, Cafe, Italian       600.0   Cafes  \n",
       "8                    Cafe, Italian, Continental       700.0   Cafes  \n",
       "9      Cafe, Mexican, Italian, Momos, Beverages       550.0   Cafes  \n",
       "10                                         Cafe       500.0   Cafes  \n",
       "11                   Cafe, Italian, Continental       600.0   Cafes  "
      ]
     },
     "execution_count": 1510,
     "metadata": {},
     "output_type": "execute_result"
    }
   ],
   "source": [
    "# A - 0.0 CARGA Y VISUALIZACION DE DATOS:\n",
    "\n",
    "rest = pd.read_csv(\"app_restaurantes_clean.csv\")\n",
    "rest.head(12)"
   ]
  },
  {
   "cell_type": "code",
   "execution_count": 1512,
   "id": "3db3b489-c3a4-4180-bb10-5bbb03ef988e",
   "metadata": {
    "tags": []
   },
   "outputs": [],
   "source": [
    "# ELIMINAMOS LA VARIABLE SOBRANTE TIPO INDICE\n",
    "\n",
    "rest = rest.drop([\"Unnamed: 0\"], axis=1)"
   ]
  },
  {
   "cell_type": "code",
   "execution_count": 1514,
   "id": "30ea4a6b-87de-47b8-98d9-9ea5427736a5",
   "metadata": {},
   "outputs": [
    {
     "data": {
      "text/plain": [
       "(51717, 10)"
      ]
     },
     "execution_count": 1514,
     "metadata": {},
     "output_type": "execute_result"
    }
   ],
   "source": [
    "rest.shape"
   ]
  },
  {
   "cell_type": "code",
   "execution_count": 1516,
   "id": "8719c40e-94a8-482f-81a0-006512537115",
   "metadata": {
    "tags": []
   },
   "outputs": [
    {
     "name": "stdout",
     "output_type": "stream",
     "text": [
      "<class 'pandas.core.frame.DataFrame'>\n",
      "RangeIndex: 51717 entries, 0 to 51716\n",
      "Data columns (total 10 columns):\n",
      " #   Column        Non-Null Count  Dtype  \n",
      "---  ------        --------------  -----  \n",
      " 0   name          51717 non-null  object \n",
      " 1   online_order  51717 non-null  object \n",
      " 2   book_table    51717 non-null  object \n",
      " 3   rate          41665 non-null  object \n",
      " 4   votes         51717 non-null  int64  \n",
      " 5   location      51696 non-null  object \n",
      " 6   rest_type     51490 non-null  object \n",
      " 7   cuisines      51672 non-null  object \n",
      " 8   Cost2plate    51371 non-null  float64\n",
      " 9   Type          51717 non-null  object \n",
      "dtypes: float64(1), int64(1), object(8)\n",
      "memory usage: 3.9+ MB\n"
     ]
    }
   ],
   "source": [
    "rest.info()"
   ]
  },
  {
   "cell_type": "code",
   "execution_count": 1518,
   "id": "9dce5b4d-2ab6-4178-8215-74792d9cf9f1",
   "metadata": {},
   "outputs": [
    {
     "name": "stdout",
     "output_type": "stream",
     "text": [
      "name                0\n",
      "online_order        0\n",
      "book_table          0\n",
      "rate            10052\n",
      "votes               0\n",
      "location           21\n",
      "rest_type         227\n",
      "cuisines           45\n",
      "Cost2plate        346\n",
      "Type                0\n",
      "dtype: int64 \n",
      "\n",
      "name             0.000000\n",
      "online_order     0.000000\n",
      "book_table       0.000000\n",
      "rate            19.436549\n",
      "votes            0.000000\n",
      "location         0.040606\n",
      "rest_type        0.438927\n",
      "cuisines         0.087012\n",
      "Cost2plate       0.669026\n",
      "Type             0.000000\n",
      "dtype: float64\n"
     ]
    }
   ],
   "source": [
    "# REVISION DE DATOS FALTANTES EN ABSOLUTOS Y EN PORCENTAJE:\n",
    "\n",
    "print(rest.isna().sum(), \"\\n\")\n",
    "print((rest.isna().sum())/len(rest)*100)"
   ]
  },
  {
   "cell_type": "code",
   "execution_count": 1520,
   "id": "3e007258-249f-4613-99ee-54d351f2d50a",
   "metadata": {
    "tags": []
   },
   "outputs": [
    {
     "data": {
      "text/plain": [
       "rate\n",
       "5    41665\n",
       "Name: count, dtype: int64"
      ]
     },
     "execution_count": 1520,
     "metadata": {},
     "output_type": "execute_result"
    }
   ],
   "source": [
    "rest.rate.str[-1:].value_counts()\n",
    "# Verificamos que todas las puntuaciones estén en una escala sobre 5. Podemos quitar el sufijo y pasarlo a float."
   ]
  },
  {
   "cell_type": "code",
   "execution_count": 1522,
   "id": "c26e19b9-4a17-42d8-8ce7-f2f7051b1aef",
   "metadata": {},
   "outputs": [],
   "source": [
    "rest.rate = rest.rate.str[:3]"
   ]
  },
  {
   "cell_type": "code",
   "execution_count": 1524,
   "id": "99b355d5-82b5-4a23-b3bb-94d951b308e6",
   "metadata": {},
   "outputs": [],
   "source": [
    "rest.rate = rest.rate.astype(float)"
   ]
  },
  {
   "cell_type": "code",
   "execution_count": 1526,
   "id": "58b203e4-9a1e-4112-a648-53f4f48b3df1",
   "metadata": {
    "tags": []
   },
   "outputs": [
    {
     "name": "stdout",
     "output_type": "stream",
     "text": [
      "<class 'pandas.core.series.Series'>\n",
      "RangeIndex: 51717 entries, 0 to 51716\n",
      "Series name: rate\n",
      "Non-Null Count  Dtype  \n",
      "--------------  -----  \n",
      "41665 non-null  float64\n",
      "dtypes: float64(1)\n",
      "memory usage: 404.2 KB\n"
     ]
    }
   ],
   "source": [
    "rest.rate.info()"
   ]
  },
  {
   "cell_type": "code",
   "execution_count": 1528,
   "id": "e82d3830-ee23-47fb-9d6e-6b010d7da948",
   "metadata": {},
   "outputs": [
    {
     "data": {
      "text/plain": [
       "<Axes: xlabel='rate', ylabel='Count'>"
      ]
     },
     "execution_count": 1528,
     "metadata": {},
     "output_type": "execute_result"
    },
    {
     "data": {
      "image/png": "[encoded data removed]",
      "text/plain": [
       "<Figure size 1400x500 with 1 Axes>"
      ]
     },
     "metadata": {},
     "output_type": "display_data"
    }
   ],
   "source": [
    "# VISUALIZAMOS DISTRIBUCION POR CALIFICACIONES:\n",
    "\n",
    "sns.set(rc={\"figure.figsize\":(14,5)})\n",
    "sns.histplot(rest.rate, bins=50, kde=True)"
   ]
  },
  {
   "cell_type": "code",
   "execution_count": 1530,
   "id": "67cb2f8e-9d9c-4f1e-a3fe-11d114a91265",
   "metadata": {},
   "outputs": [],
   "source": [
    "# RELLENAMOS NAN CON LAS MODAS:\n",
    "\n",
    "rest.location = rest.location.fillna(rest.location.mode()[0])\n",
    "rest.rest_type = rest.rest_type.fillna(rest.rest_type.mode()[0])\n",
    "rest.cuisines = rest.cuisines.fillna(rest.cuisines.mode()[0])\n",
    "rest.Cost2plate = rest.Cost2plate.fillna(rest.Cost2plate.median())"
   ]
  },
  {
   "cell_type": "code",
   "execution_count": null,
   "id": "b078dbe5-ca55-43a8-8cd4-18021a4a3973",
   "metadata": {},
   "outputs": [],
   "source": []
  },
  {
   "cell_type": "code",
   "execution_count": 1532,
   "id": "f1397519-da7d-4f62-af1f-ddc2493ba48a",
   "metadata": {
    "scrolled": true,
    "tags": []
   },
   "outputs": [
    {
     "data": {
      "text/plain": [
       "93"
      ]
     },
     "execution_count": 1532,
     "metadata": {},
     "output_type": "execute_result"
    }
   ],
   "source": [
    "# A - ANALISIS VARIABLE LOCATION:\n",
    "\n",
    "df_location = pd.DataFrame({\"amount\" : rest.location.value_counts(), \"pct\" : rest.location.value_counts()/len(rest.location)*100})\n",
    "len(df_location)"
   ]
  },
  {
   "cell_type": "code",
   "execution_count": 1534,
   "id": "397afd97-c347-4699-bd64-8077df155996",
   "metadata": {
    "tags": []
   },
   "outputs": [
    {
     "data": {
      "text/html": [
       "<div>\n",
       "<style scoped>\n",
       "    .dataframe tbody tr th:only-of-type {\n",
       "        vertical-align: middle;\n",
       "    }\n",
       "\n",
       "    .dataframe tbody tr th {\n",
       "        vertical-align: top;\n",
       "    }\n",
       "\n",
       "    .dataframe thead th {\n",
       "        text-align: right;\n",
       "    }\n",
       "</style>\n",
       "<table border=\"1\" class=\"dataframe\">\n",
       "  <thead>\n",
       "    <tr style=\"text-align: right;\">\n",
       "      <th></th>\n",
       "      <th>amount</th>\n",
       "      <th>pct</th>\n",
       "    </tr>\n",
       "    <tr>\n",
       "      <th>location</th>\n",
       "      <th></th>\n",
       "      <th></th>\n",
       "    </tr>\n",
       "  </thead>\n",
       "  <tbody>\n",
       "    <tr>\n",
       "      <th>BTM</th>\n",
       "      <td>5145</td>\n",
       "      <td>9.948373</td>\n",
       "    </tr>\n",
       "    <tr>\n",
       "      <th>HSR</th>\n",
       "      <td>2523</td>\n",
       "      <td>4.878473</td>\n",
       "    </tr>\n",
       "    <tr>\n",
       "      <th>Koramangala 5th Block</th>\n",
       "      <td>2504</td>\n",
       "      <td>4.841735</td>\n",
       "    </tr>\n",
       "    <tr>\n",
       "      <th>JP Nagar</th>\n",
       "      <td>2235</td>\n",
       "      <td>4.321596</td>\n",
       "    </tr>\n",
       "    <tr>\n",
       "      <th>Whitefield</th>\n",
       "      <td>2144</td>\n",
       "      <td>4.145639</td>\n",
       "    </tr>\n",
       "    <tr>\n",
       "      <th>Indiranagar</th>\n",
       "      <td>2083</td>\n",
       "      <td>4.027689</td>\n",
       "    </tr>\n",
       "    <tr>\n",
       "      <th>Jayanagar</th>\n",
       "      <td>1926</td>\n",
       "      <td>3.724114</td>\n",
       "    </tr>\n",
       "    <tr>\n",
       "      <th>Marathahalli</th>\n",
       "      <td>1846</td>\n",
       "      <td>3.569426</td>\n",
       "    </tr>\n",
       "    <tr>\n",
       "      <th>Bannerghatta Road</th>\n",
       "      <td>1630</td>\n",
       "      <td>3.151768</td>\n",
       "    </tr>\n",
       "    <tr>\n",
       "      <th>Bellandur</th>\n",
       "      <td>1286</td>\n",
       "      <td>2.486610</td>\n",
       "    </tr>\n",
       "    <tr>\n",
       "      <th>Electronic City</th>\n",
       "      <td>1258</td>\n",
       "      <td>2.432469</td>\n",
       "    </tr>\n",
       "    <tr>\n",
       "      <th>Koramangala 1st Block</th>\n",
       "      <td>1238</td>\n",
       "      <td>2.393797</td>\n",
       "    </tr>\n",
       "    <tr>\n",
       "      <th>Brigade Road</th>\n",
       "      <td>1218</td>\n",
       "      <td>2.355125</td>\n",
       "    </tr>\n",
       "    <tr>\n",
       "      <th>Koramangala 7th Block</th>\n",
       "      <td>1181</td>\n",
       "      <td>2.283582</td>\n",
       "    </tr>\n",
       "    <tr>\n",
       "      <th>Koramangala 6th Block</th>\n",
       "      <td>1156</td>\n",
       "      <td>2.235242</td>\n",
       "    </tr>\n",
       "    <tr>\n",
       "      <th>Sarjapur Road</th>\n",
       "      <td>1065</td>\n",
       "      <td>2.059284</td>\n",
       "    </tr>\n",
       "    <tr>\n",
       "      <th>Ulsoor</th>\n",
       "      <td>1023</td>\n",
       "      <td>1.978073</td>\n",
       "    </tr>\n",
       "    <tr>\n",
       "      <th>Koramangala 4th Block</th>\n",
       "      <td>1017</td>\n",
       "      <td>1.966471</td>\n",
       "    </tr>\n",
       "    <tr>\n",
       "      <th>MG Road</th>\n",
       "      <td>918</td>\n",
       "      <td>1.775045</td>\n",
       "    </tr>\n",
       "    <tr>\n",
       "      <th>Banashankari</th>\n",
       "      <td>906</td>\n",
       "      <td>1.751842</td>\n",
       "    </tr>\n",
       "    <tr>\n",
       "      <th>Kalyan Nagar</th>\n",
       "      <td>853</td>\n",
       "      <td>1.649361</td>\n",
       "    </tr>\n",
       "    <tr>\n",
       "      <th>Richmond Road</th>\n",
       "      <td>812</td>\n",
       "      <td>1.570083</td>\n",
       "    </tr>\n",
       "    <tr>\n",
       "      <th>Frazer Town</th>\n",
       "      <td>727</td>\n",
       "      <td>1.405727</td>\n",
       "    </tr>\n",
       "    <tr>\n",
       "      <th>Malleshwaram</th>\n",
       "      <td>725</td>\n",
       "      <td>1.401860</td>\n",
       "    </tr>\n",
       "    <tr>\n",
       "      <th>Basavanagudi</th>\n",
       "      <td>684</td>\n",
       "      <td>1.322583</td>\n",
       "    </tr>\n",
       "  </tbody>\n",
       "</table>\n",
       "</div>"
      ],
      "text/plain": [
       "                       amount       pct\n",
       "location                               \n",
       "BTM                      5145  9.948373\n",
       "HSR                      2523  4.878473\n",
       "Koramangala 5th Block    2504  4.841735\n",
       "JP Nagar                 2235  4.321596\n",
       "Whitefield               2144  4.145639\n",
       "Indiranagar              2083  4.027689\n",
       "Jayanagar                1926  3.724114\n",
       "Marathahalli             1846  3.569426\n",
       "Bannerghatta Road        1630  3.151768\n",
       "Bellandur                1286  2.486610\n",
       "Electronic City          1258  2.432469\n",
       "Koramangala 1st Block    1238  2.393797\n",
       "Brigade Road             1218  2.355125\n",
       "Koramangala 7th Block    1181  2.283582\n",
       "Koramangala 6th Block    1156  2.235242\n",
       "Sarjapur Road            1065  2.059284\n",
       "Ulsoor                   1023  1.978073\n",
       "Koramangala 4th Block    1017  1.966471\n",
       "MG Road                   918  1.775045\n",
       "Banashankari              906  1.751842\n",
       "Kalyan Nagar              853  1.649361\n",
       "Richmond Road             812  1.570083\n",
       "Frazer Town               727  1.405727\n",
       "Malleshwaram              725  1.401860\n",
       "Basavanagudi              684  1.322583"
      ]
     },
     "execution_count": 1534,
     "metadata": {},
     "output_type": "execute_result"
    }
   ],
   "source": [
    "# HAY 93 LOCALIZACIONES, POR COMODIDAD VISUALIZAMOS LAS 25 MAYORES (YA VIENEN ORDENADAS POR EL DF ANTERIOR):\n",
    "\n",
    "df_location.head(25)"
   ]
  },
  {
   "cell_type": "code",
   "execution_count": 1536,
   "id": "2c89aaa2-426c-4b07-b875-f9935c2491e3",
   "metadata": {
    "tags": []
   },
   "outputs": [
    {
     "name": "stderr",
     "output_type": "stream",
     "text": [
      "C:\\Users\\PC\\AppData\\Local\\Temp\\ipykernel_13292\\861672088.py:4: UserWarning: set_ticklabels() should only be used with a fixed number of ticks, i.e. after set_ticks() or using a FixedLocator.\n",
      "  plot_loc.set_xticklabels(plot_loc.get_xticklabels(), rotation=60)\n"
     ]
    },
    {
     "data": {
      "text/plain": [
       "[Text(0, 0, 'BTM'),\n",
       " Text(1, 0, 'HSR'),\n",
       " Text(2, 0, 'Koramangala 5th Block'),\n",
       " Text(3, 0, 'JP Nagar'),\n",
       " Text(4, 0, 'Whitefield'),\n",
       " Text(5, 0, 'Indiranagar'),\n",
       " Text(6, 0, 'Jayanagar'),\n",
       " Text(7, 0, 'Marathahalli'),\n",
       " Text(8, 0, 'Bannerghatta Road'),\n",
       " Text(9, 0, 'Bellandur'),\n",
       " Text(10, 0, 'Electronic City'),\n",
       " Text(11, 0, 'Koramangala 1st Block'),\n",
       " Text(12, 0, 'Brigade Road'),\n",
       " Text(13, 0, 'Koramangala 7th Block'),\n",
       " Text(14, 0, 'Koramangala 6th Block'),\n",
       " Text(15, 0, 'Sarjapur Road'),\n",
       " Text(16, 0, 'Ulsoor'),\n",
       " Text(17, 0, 'Koramangala 4th Block'),\n",
       " Text(18, 0, 'MG Road'),\n",
       " Text(19, 0, 'Banashankari'),\n",
       " Text(20, 0, 'Kalyan Nagar'),\n",
       " Text(21, 0, 'Richmond Road'),\n",
       " Text(22, 0, 'Frazer Town'),\n",
       " Text(23, 0, 'Malleshwaram'),\n",
       " Text(24, 0, 'Basavanagudi')]"
      ]
     },
     "execution_count": 1536,
     "metadata": {},
     "output_type": "execute_result"
    },
    {
     "data": {
      "image/png": "[encoded data removed]",
      "text/plain": [
       "<Figure size 1400x500 with 1 Axes>"
      ]
     },
     "metadata": {},
     "output_type": "display_data"
    }
   ],
   "source": [
    "# LO VISUALIZAMOS MEDIANTE BARRAS\n",
    "\n",
    "plot_loc = sns.barplot(df_location.amount.head(25))\n",
    "plot_loc.set_xticklabels(plot_loc.get_xticklabels(), rotation=60)"
   ]
  },
  {
   "cell_type": "code",
   "execution_count": 1538,
   "id": "b6c6ba37-cef7-4d22-a746-6ed3d2ac1c80",
   "metadata": {
    "tags": []
   },
   "outputs": [
    {
     "data": {
      "text/plain": [
       "online_order\n",
       "Yes    30444\n",
       "No     21273\n",
       "Name: count, dtype: int64"
      ]
     },
     "execution_count": 1538,
     "metadata": {},
     "output_type": "execute_result"
    }
   ],
   "source": [
    "# B1 - ANALISIS POR POSIBILIDAD DE HACER PEDIDOS ONLINE:\n",
    "\n",
    "rest.online_order.value_counts()"
   ]
  },
  {
   "cell_type": "code",
   "execution_count": 1540,
   "id": "d1c31261-e85b-4331-b6e8-7b127e1499f4",
   "metadata": {
    "tags": []
   },
   "outputs": [
    {
     "data": {
      "text/plain": [
       "<Axes: xlabel='online_order', ylabel='count'>"
      ]
     },
     "execution_count": 1540,
     "metadata": {},
     "output_type": "execute_result"
    },
    {
     "data": {
      "image/png": "[encoded data removed]",
      "text/plain": [
       "<Figure size 1400x500 with 1 Axes>"
      ]
     },
     "metadata": {},
     "output_type": "display_data"
    }
   ],
   "source": [
    "sns.barplot(rest.online_order.value_counts())"
   ]
  },
  {
   "cell_type": "code",
   "execution_count": 1542,
   "id": "9564b18b-9178-40a0-be11-06853eeff267",
   "metadata": {
    "tags": []
   },
   "outputs": [
    {
     "data": {
      "text/plain": [
       "book_table\n",
       "No     45268\n",
       "Yes     6449\n",
       "Name: count, dtype: int64"
      ]
     },
     "execution_count": 1542,
     "metadata": {},
     "output_type": "execute_result"
    }
   ],
   "source": [
    "# B2 - ANALISIS POR POSIBILIDAD DE RESERVAR MESA:\n",
    "\n",
    "rest.book_table.value_counts()"
   ]
  },
  {
   "cell_type": "code",
   "execution_count": 1544,
   "id": "2cdf7d74-c3bb-4bfd-927f-a12e00d9e208",
   "metadata": {
    "tags": []
   },
   "outputs": [
    {
     "data": {
      "text/plain": [
       "<Axes: xlabel='book_table', ylabel='count'>"
      ]
     },
     "execution_count": 1544,
     "metadata": {},
     "output_type": "execute_result"
    },
    {
     "data": {
      "image/png": "[encoded data removed]",
      "text/plain": [
       "<Figure size 1400x500 with 1 Axes>"
      ]
     },
     "metadata": {},
     "output_type": "display_data"
    }
   ],
   "source": [
    "sns.barplot(rest.book_table.value_counts())\n",
    "\n",
    "# SE OBSERVA UNA DISTRIBUCION MUY DESBALANCEADA:"
   ]
  },
  {
   "cell_type": "code",
   "execution_count": null,
   "id": "2eaa8981-f070-4910-b7dd-2f4fe7915b9b",
   "metadata": {},
   "outputs": [],
   "source": []
  },
  {
   "cell_type": "code",
   "execution_count": 1546,
   "id": "97e7b6f9-7776-47d3-b595-3badc2891b7a",
   "metadata": {},
   "outputs": [
    {
     "data": {
      "text/plain": [
       "name                0\n",
       "online_order        0\n",
       "book_table          0\n",
       "rate            10052\n",
       "votes               0\n",
       "location            0\n",
       "rest_type           0\n",
       "cuisines            0\n",
       "Cost2plate          0\n",
       "Type                0\n",
       "dtype: int64"
      ]
     },
     "execution_count": 1546,
     "metadata": {},
     "output_type": "execute_result"
    }
   ],
   "source": [
    "# C - PARA EL ANALISIS RELACIONADO A LA VARIABLE OBJETIVO, UNA OPCION PUEDE SER DIVIDIR EL DS ENTRE LOS QUE TIENEN RATE Y LOS QUE NO.\n",
    "#     A PARTIR DE AQUI CALCULAREMOS LOS DATOS A PARTIR DE LAS ENTRADAS QUE SÍ TIENEN RATES.\n",
    "\n",
    "rest.isna().sum()"
   ]
  },
  {
   "cell_type": "code",
   "execution_count": 1548,
   "id": "71ecb717-c1fc-40dd-95a5-f10a656b2973",
   "metadata": {
    "tags": []
   },
   "outputs": [],
   "source": [
    "# DS SIN NAN:\n",
    "\n",
    "rest_full_a = rest[rest['rate'].notna()]"
   ]
  },
  {
   "cell_type": "code",
   "execution_count": 1550,
   "id": "b1c03dac-13ba-4693-937b-97c50d80dcfe",
   "metadata": {
    "tags": []
   },
   "outputs": [
    {
     "data": {
      "text/plain": [
       "(41665, 10)"
      ]
     },
     "execution_count": 1550,
     "metadata": {},
     "output_type": "execute_result"
    }
   ],
   "source": [
    "rest_full_a.shape"
   ]
  },
  {
   "cell_type": "code",
   "execution_count": 1552,
   "id": "927426e1-67aa-4e82-9fcd-4c59e13a830a",
   "metadata": {
    "tags": []
   },
   "outputs": [
    {
     "data": {
      "text/plain": [
       "name            0\n",
       "online_order    0\n",
       "book_table      0\n",
       "rate            0\n",
       "votes           0\n",
       "location        0\n",
       "rest_type       0\n",
       "cuisines        0\n",
       "Cost2plate      0\n",
       "Type            0\n",
       "dtype: int64"
      ]
     },
     "execution_count": 1552,
     "metadata": {},
     "output_type": "execute_result"
    }
   ],
   "source": [
    "rest_full_a.isna().sum()"
   ]
  },
  {
   "cell_type": "code",
   "execution_count": 1554,
   "id": "359f8917-6a60-4d44-af8a-d6d8c3414a30",
   "metadata": {
    "tags": []
   },
   "outputs": [],
   "source": [
    "# DS con los NAN:\n",
    "\n",
    "rest_nan = rest[rest['rate'].isna()]"
   ]
  },
  {
   "cell_type": "code",
   "execution_count": 1560,
   "id": "b1412d51-f333-4972-811f-82ecf9066422",
   "metadata": {
    "tags": []
   },
   "outputs": [
    {
     "data": {
      "text/plain": [
       "(10052, 10)"
      ]
     },
     "execution_count": 1560,
     "metadata": {},
     "output_type": "execute_result"
    }
   ],
   "source": [
    "rest_nan.shape"
   ]
  },
  {
   "cell_type": "code",
   "execution_count": 1562,
   "id": "ab5190aa-72eb-43ea-8833-df10eecbb3b9",
   "metadata": {
    "tags": []
   },
   "outputs": [
    {
     "data": {
      "text/plain": [
       "name                0\n",
       "online_order        0\n",
       "book_table          0\n",
       "rate            10052\n",
       "votes               0\n",
       "location            0\n",
       "rest_type           0\n",
       "cuisines            0\n",
       "Cost2plate          0\n",
       "Type                0\n",
       "dtype: int64"
      ]
     },
     "execution_count": 1562,
     "metadata": {},
     "output_type": "execute_result"
    }
   ],
   "source": [
    "rest_nan.isna().sum()"
   ]
  },
  {
   "cell_type": "code",
   "execution_count": 1564,
   "id": "e6613c45-9aa0-4b26-ba0e-b9a0d13ec0c1",
   "metadata": {
    "tags": []
   },
   "outputs": [
    {
     "data": {
      "text/plain": [
       "<Axes: xlabel='rate', ylabel='Count'>"
      ]
     },
     "execution_count": 1564,
     "metadata": {},
     "output_type": "execute_result"
    },
    {
     "data": {
      "image/png": "[encoded data removed]",
      "text/plain": [
       "<Figure size 1400x500 with 1 Axes>"
      ]
     },
     "metadata": {},
     "output_type": "display_data"
    }
   ],
   "source": [
    "# C - VALORACIÓN SEGUN SI SE ACEPTAN O NO PEDIDOS ONLINE\n",
    "# Aprovechamos el tipo de gráfico anterior, esta vez separando por colores la variable \"online_orders\".\n",
    "\n",
    "sns.set(rc={\"figure.figsize\":(14,5)})\n",
    "sns.histplot(rest_full_a, x=rest_full_a.rate, bins=50, kde=True, hue=rest_full_a.online_order)\n",
    "\n",
    "# Se aprecian más calificaciones en general para los restaurantes que sí aceptan, e incluso una mejor nota (mediana más a la derecha) para éstos:"
   ]
  },
  {
   "cell_type": "code",
   "execution_count": 1566,
   "id": "98f5736d-8918-465e-805a-bd117a5b0f3e",
   "metadata": {},
   "outputs": [
    {
     "data": {
      "text/plain": [
       "<Axes: xlabel='rate', ylabel='Count'>"
      ]
     },
     "execution_count": 1566,
     "metadata": {},
     "output_type": "execute_result"
    },
    {
     "data": {
      "image/png": "[encoded data removed]",
      "text/plain": [
       "<Figure size 1400x500 with 1 Axes>"
      ]
     },
     "metadata": {},
     "output_type": "display_data"
    }
   ],
   "source": [
    "# D - VALORACIÓN SEGUN SI SE ACEPTAN O NO PEDIDOS RESERVAS DE MESAS\n",
    "# Aprovechamos el tipo de gráfico anterior, esta vez separando por colores la variable \"book_table\".\n",
    "\n",
    "sns.set(rc={\"figure.figsize\":(14,5)})\n",
    "sns.histplot(rest_full_a, x=rest_full_a.rate, bins=50, kde=True, hue=rest_full_a.book_table)\n",
    "\n",
    "# En este caso vemos muchos más restaurantes que no aceptan reservas, pero con una valoración (mediana) menor que los que sí aceptan reservas:"
   ]
  },
  {
   "cell_type": "code",
   "execution_count": null,
   "id": "947a7f2a-a415-4e40-9c17-f87259d709a0",
   "metadata": {},
   "outputs": [],
   "source": [
    "# E - ¿Cual de las dos variables analizadas en los apartados D y C crees que sería más determinante de cara a un modelo de Machine Learning? ¿Por qué?\n",
    "# --> Diría que definitivamente \"book_table\" está mucho más diferenciada en cuanto a las valoraciones"
   ]
  },
  {
   "cell_type": "code",
   "execution_count": null,
   "id": "99f6b12f-597f-4f66-b7f2-42d433008e8d",
   "metadata": {},
   "outputs": [],
   "source": [
    "# f) Realiza las transformaciones que creas necesarias en las variables, explicando cada una de ellas, de cara a crear un modelo de regresión que sea capaz de predecir la valoración de los usuarios."
   ]
  },
  {
   "cell_type": "code",
   "execution_count": 1568,
   "id": "893a230f-3db3-4a81-a2e0-045330b41900",
   "metadata": {
    "tags": []
   },
   "outputs": [
    {
     "data": {
      "text/html": [
       "<div>\n",
       "<style scoped>\n",
       "    .dataframe tbody tr th:only-of-type {\n",
       "        vertical-align: middle;\n",
       "    }\n",
       "\n",
       "    .dataframe tbody tr th {\n",
       "        vertical-align: top;\n",
       "    }\n",
       "\n",
       "    .dataframe thead th {\n",
       "        text-align: right;\n",
       "    }\n",
       "</style>\n",
       "<table border=\"1\" class=\"dataframe\">\n",
       "  <thead>\n",
       "    <tr style=\"text-align: right;\">\n",
       "      <th></th>\n",
       "      <th>name</th>\n",
       "      <th>online_order</th>\n",
       "      <th>book_table</th>\n",
       "      <th>rate</th>\n",
       "      <th>votes</th>\n",
       "      <th>location</th>\n",
       "      <th>rest_type</th>\n",
       "      <th>cuisines</th>\n",
       "      <th>Cost2plate</th>\n",
       "      <th>Type</th>\n",
       "    </tr>\n",
       "  </thead>\n",
       "  <tbody>\n",
       "    <tr>\n",
       "      <th>0</th>\n",
       "      <td>Jalsa</td>\n",
       "      <td>Yes</td>\n",
       "      <td>Yes</td>\n",
       "      <td>4.1</td>\n",
       "      <td>775</td>\n",
       "      <td>Banashankari</td>\n",
       "      <td>Casual Dining</td>\n",
       "      <td>North Indian, Mughlai, Chinese</td>\n",
       "      <td>800.0</td>\n",
       "      <td>Buffet</td>\n",
       "    </tr>\n",
       "    <tr>\n",
       "      <th>1</th>\n",
       "      <td>Spice Elephant</td>\n",
       "      <td>Yes</td>\n",
       "      <td>No</td>\n",
       "      <td>4.1</td>\n",
       "      <td>787</td>\n",
       "      <td>Banashankari</td>\n",
       "      <td>Casual Dining</td>\n",
       "      <td>Chinese, North Indian, Thai</td>\n",
       "      <td>800.0</td>\n",
       "      <td>Buffet</td>\n",
       "    </tr>\n",
       "    <tr>\n",
       "      <th>2</th>\n",
       "      <td>San Churro Cafe</td>\n",
       "      <td>Yes</td>\n",
       "      <td>No</td>\n",
       "      <td>3.8</td>\n",
       "      <td>918</td>\n",
       "      <td>Banashankari</td>\n",
       "      <td>Cafe, Casual Dining</td>\n",
       "      <td>Cafe, Mexican, Italian</td>\n",
       "      <td>800.0</td>\n",
       "      <td>Buffet</td>\n",
       "    </tr>\n",
       "    <tr>\n",
       "      <th>3</th>\n",
       "      <td>Addhuri Udupi Bhojana</td>\n",
       "      <td>No</td>\n",
       "      <td>No</td>\n",
       "      <td>3.7</td>\n",
       "      <td>88</td>\n",
       "      <td>Banashankari</td>\n",
       "      <td>Quick Bites</td>\n",
       "      <td>South Indian, North Indian</td>\n",
       "      <td>300.0</td>\n",
       "      <td>Buffet</td>\n",
       "    </tr>\n",
       "    <tr>\n",
       "      <th>4</th>\n",
       "      <td>Grand Village</td>\n",
       "      <td>No</td>\n",
       "      <td>No</td>\n",
       "      <td>3.8</td>\n",
       "      <td>166</td>\n",
       "      <td>Basavanagudi</td>\n",
       "      <td>Casual Dining</td>\n",
       "      <td>North Indian, Rajasthani</td>\n",
       "      <td>600.0</td>\n",
       "      <td>Buffet</td>\n",
       "    </tr>\n",
       "  </tbody>\n",
       "</table>\n",
       "</div>"
      ],
      "text/plain": [
       "                    name online_order book_table  rate  votes      location  \\\n",
       "0                  Jalsa          Yes        Yes   4.1    775  Banashankari   \n",
       "1         Spice Elephant          Yes         No   4.1    787  Banashankari   \n",
       "2        San Churro Cafe          Yes         No   3.8    918  Banashankari   \n",
       "3  Addhuri Udupi Bhojana           No         No   3.7     88  Banashankari   \n",
       "4          Grand Village           No         No   3.8    166  Basavanagudi   \n",
       "\n",
       "             rest_type                        cuisines  Cost2plate    Type  \n",
       "0        Casual Dining  North Indian, Mughlai, Chinese       800.0  Buffet  \n",
       "1        Casual Dining     Chinese, North Indian, Thai       800.0  Buffet  \n",
       "2  Cafe, Casual Dining          Cafe, Mexican, Italian       800.0  Buffet  \n",
       "3          Quick Bites      South Indian, North Indian       300.0  Buffet  \n",
       "4        Casual Dining        North Indian, Rajasthani       600.0  Buffet  "
      ]
     },
     "execution_count": 1568,
     "metadata": {},
     "output_type": "execute_result"
    }
   ],
   "source": [
    "# F - Empezamos revisando aquellas otras variables aún sin analizar\n",
    "rest_full_a.head()"
   ]
  },
  {
   "cell_type": "code",
   "execution_count": 1570,
   "id": "9fa1208f-cbed-4907-8650-ef11e1e865ce",
   "metadata": {
    "tags": []
   },
   "outputs": [
    {
     "name": "stdout",
     "output_type": "stream",
     "text": [
      "87\n",
      "2383\n",
      "7\n"
     ]
    }
   ],
   "source": [
    "print(rest_full_a.rest_type.nunique())\n",
    "print(rest_full_a.cuisines.nunique())\n",
    "print(rest_full_a.Type.nunique())"
   ]
  },
  {
   "cell_type": "code",
   "execution_count": 1572,
   "id": "aec8df5d-e8ea-45ef-8009-c97dba960591",
   "metadata": {
    "tags": []
   },
   "outputs": [
    {
     "data": {
      "text/plain": [
       "Type\n",
       "Delivery              0.495596\n",
       "Dine-out              0.340982\n",
       "Desserts              0.065571\n",
       "Cafes                 0.036625\n",
       "Drinks & nightlife    0.025321\n",
       "Buffet                0.020521\n",
       "Pubs and bars         0.015385\n",
       "Name: count, dtype: float64"
      ]
     },
     "execution_count": 1572,
     "metadata": {},
     "output_type": "execute_result"
    }
   ],
   "source": [
    "# De los anteriores, rest_type y cuisines contienen múltiples opciones y combinaciones, lo que haría muy complejo su análisis e incidencia sobre las valoraciones.\n",
    "# Damos una ojeada a Type por si viésemos algún patrón singular:\n",
    "\n",
    "# Sacamos la distribución por tipo de restaurante:\n",
    "type_ratio = rest_full_a.Type.value_counts()/len(rest_full_a)\n",
    "type_ratio"
   ]
  },
  {
   "cell_type": "code",
   "execution_count": 1574,
   "id": "9e1a996e-f843-438b-a5d6-c3b8013c80fb",
   "metadata": {
    "tags": []
   },
   "outputs": [
    {
     "data": {
      "text/html": [
       "<div>\n",
       "<style scoped>\n",
       "    .dataframe tbody tr th:only-of-type {\n",
       "        vertical-align: middle;\n",
       "    }\n",
       "\n",
       "    .dataframe tbody tr th {\n",
       "        vertical-align: top;\n",
       "    }\n",
       "\n",
       "    .dataframe thead th {\n",
       "        text-align: right;\n",
       "    }\n",
       "</style>\n",
       "<table border=\"1\" class=\"dataframe\">\n",
       "  <thead>\n",
       "    <tr style=\"text-align: right;\">\n",
       "      <th></th>\n",
       "      <th>Type</th>\n",
       "      <th>ratio</th>\n",
       "    </tr>\n",
       "  </thead>\n",
       "  <tbody>\n",
       "    <tr>\n",
       "      <th>0</th>\n",
       "      <td>Delivery</td>\n",
       "      <td>0.495596</td>\n",
       "    </tr>\n",
       "    <tr>\n",
       "      <th>1</th>\n",
       "      <td>Dine-out</td>\n",
       "      <td>0.340982</td>\n",
       "    </tr>\n",
       "    <tr>\n",
       "      <th>2</th>\n",
       "      <td>Desserts</td>\n",
       "      <td>0.065571</td>\n",
       "    </tr>\n",
       "    <tr>\n",
       "      <th>3</th>\n",
       "      <td>Cafes</td>\n",
       "      <td>0.036625</td>\n",
       "    </tr>\n",
       "    <tr>\n",
       "      <th>4</th>\n",
       "      <td>Drinks &amp; nightlife</td>\n",
       "      <td>0.025321</td>\n",
       "    </tr>\n",
       "    <tr>\n",
       "      <th>5</th>\n",
       "      <td>Buffet</td>\n",
       "      <td>0.020521</td>\n",
       "    </tr>\n",
       "    <tr>\n",
       "      <th>6</th>\n",
       "      <td>Pubs and bars</td>\n",
       "      <td>0.015385</td>\n",
       "    </tr>\n",
       "  </tbody>\n",
       "</table>\n",
       "</div>"
      ],
      "text/plain": [
       "                 Type     ratio\n",
       "0            Delivery  0.495596\n",
       "1            Dine-out  0.340982\n",
       "2            Desserts  0.065571\n",
       "3               Cafes  0.036625\n",
       "4  Drinks & nightlife  0.025321\n",
       "5              Buffet  0.020521\n",
       "6       Pubs and bars  0.015385"
      ]
     },
     "execution_count": 1574,
     "metadata": {},
     "output_type": "execute_result"
    }
   ],
   "source": [
    "# Generamos un DS a partir del cálculo previo:\n",
    "\n",
    "type_pct = type_ratio.reset_index()\n",
    "type_pct.columns = ['Type', 'ratio']\n",
    "type_pct"
   ]
  },
  {
   "cell_type": "code",
   "execution_count": 1576,
   "id": "96e2b062-3d05-4bde-8f52-7bce452114db",
   "metadata": {
    "tags": []
   },
   "outputs": [
    {
     "data": {
      "text/html": [
       "<div>\n",
       "<style scoped>\n",
       "    .dataframe tbody tr th:only-of-type {\n",
       "        vertical-align: middle;\n",
       "    }\n",
       "\n",
       "    .dataframe tbody tr th {\n",
       "        vertical-align: top;\n",
       "    }\n",
       "\n",
       "    .dataframe thead th {\n",
       "        text-align: right;\n",
       "    }\n",
       "</style>\n",
       "<table border=\"1\" class=\"dataframe\">\n",
       "  <thead>\n",
       "    <tr style=\"text-align: right;\">\n",
       "      <th></th>\n",
       "      <th>mean_rate</th>\n",
       "    </tr>\n",
       "    <tr>\n",
       "      <th>Type</th>\n",
       "      <th></th>\n",
       "    </tr>\n",
       "  </thead>\n",
       "  <tbody>\n",
       "    <tr>\n",
       "      <th>Buffet</th>\n",
       "      <td>3.982105</td>\n",
       "    </tr>\n",
       "    <tr>\n",
       "      <th>Cafes</th>\n",
       "      <td>3.872477</td>\n",
       "    </tr>\n",
       "    <tr>\n",
       "      <th>Delivery</th>\n",
       "      <td>3.653257</td>\n",
       "    </tr>\n",
       "    <tr>\n",
       "      <th>Desserts</th>\n",
       "      <td>3.777013</td>\n",
       "    </tr>\n",
       "    <tr>\n",
       "      <th>Dine-out</th>\n",
       "      <td>3.680826</td>\n",
       "    </tr>\n",
       "    <tr>\n",
       "      <th>Drinks &amp; nightlife</th>\n",
       "      <td>4.017062</td>\n",
       "    </tr>\n",
       "    <tr>\n",
       "      <th>Pubs and bars</th>\n",
       "      <td>4.022933</td>\n",
       "    </tr>\n",
       "  </tbody>\n",
       "</table>\n",
       "</div>"
      ],
      "text/plain": [
       "                    mean_rate\n",
       "Type                         \n",
       "Buffet               3.982105\n",
       "Cafes                3.872477\n",
       "Delivery             3.653257\n",
       "Desserts             3.777013\n",
       "Dine-out             3.680826\n",
       "Drinks & nightlife   4.017062\n",
       "Pubs and bars        4.022933"
      ]
     },
     "execution_count": 1576,
     "metadata": {},
     "output_type": "execute_result"
    }
   ],
   "source": [
    "# Calculamos las medias de valoración por tipo:\n",
    "\n",
    "type_mean = rest_full_a.groupby(\"Type\").agg(mean_rate=(\"rate\", \"mean\"))\n",
    "type_mean"
   ]
  },
  {
   "cell_type": "code",
   "execution_count": 1578,
   "id": "72ab1d04-dc81-443d-9f57-664ca841cbc6",
   "metadata": {
    "tags": []
   },
   "outputs": [
    {
     "data": {
      "text/html": [
       "<div>\n",
       "<style scoped>\n",
       "    .dataframe tbody tr th:only-of-type {\n",
       "        vertical-align: middle;\n",
       "    }\n",
       "\n",
       "    .dataframe tbody tr th {\n",
       "        vertical-align: top;\n",
       "    }\n",
       "\n",
       "    .dataframe thead th {\n",
       "        text-align: right;\n",
       "    }\n",
       "</style>\n",
       "<table border=\"1\" class=\"dataframe\">\n",
       "  <thead>\n",
       "    <tr style=\"text-align: right;\">\n",
       "      <th></th>\n",
       "      <th>Type</th>\n",
       "      <th>ratio</th>\n",
       "      <th>mean_rate</th>\n",
       "    </tr>\n",
       "  </thead>\n",
       "  <tbody>\n",
       "    <tr>\n",
       "      <th>0</th>\n",
       "      <td>Delivery</td>\n",
       "      <td>0.495596</td>\n",
       "      <td>3.653257</td>\n",
       "    </tr>\n",
       "    <tr>\n",
       "      <th>1</th>\n",
       "      <td>Dine-out</td>\n",
       "      <td>0.340982</td>\n",
       "      <td>3.680826</td>\n",
       "    </tr>\n",
       "    <tr>\n",
       "      <th>2</th>\n",
       "      <td>Desserts</td>\n",
       "      <td>0.065571</td>\n",
       "      <td>3.777013</td>\n",
       "    </tr>\n",
       "    <tr>\n",
       "      <th>3</th>\n",
       "      <td>Cafes</td>\n",
       "      <td>0.036625</td>\n",
       "      <td>3.872477</td>\n",
       "    </tr>\n",
       "    <tr>\n",
       "      <th>4</th>\n",
       "      <td>Drinks &amp; nightlife</td>\n",
       "      <td>0.025321</td>\n",
       "      <td>4.017062</td>\n",
       "    </tr>\n",
       "    <tr>\n",
       "      <th>5</th>\n",
       "      <td>Buffet</td>\n",
       "      <td>0.020521</td>\n",
       "      <td>3.982105</td>\n",
       "    </tr>\n",
       "    <tr>\n",
       "      <th>6</th>\n",
       "      <td>Pubs and bars</td>\n",
       "      <td>0.015385</td>\n",
       "      <td>4.022933</td>\n",
       "    </tr>\n",
       "  </tbody>\n",
       "</table>\n",
       "</div>"
      ],
      "text/plain": [
       "                 Type     ratio  mean_rate\n",
       "0            Delivery  0.495596   3.653257\n",
       "1            Dine-out  0.340982   3.680826\n",
       "2            Desserts  0.065571   3.777013\n",
       "3               Cafes  0.036625   3.872477\n",
       "4  Drinks & nightlife  0.025321   4.017062\n",
       "5              Buffet  0.020521   3.982105\n",
       "6       Pubs and bars  0.015385   4.022933"
      ]
     },
     "execution_count": 1578,
     "metadata": {},
     "output_type": "execute_result"
    }
   ],
   "source": [
    "# Unificamos ambas tablas:\n",
    "\n",
    "type_merged = pd.merge(type_pct, type_mean, on='Type', how='left')\n",
    "type_merged"
   ]
  },
  {
   "cell_type": "code",
   "execution_count": 1580,
   "id": "c8a2d056-67e6-41b3-b792-8628d79ca63d",
   "metadata": {
    "tags": []
   },
   "outputs": [
    {
     "data": {
      "text/plain": [
       "<Axes: xlabel='mean_rate', ylabel='ratio'>"
      ]
     },
     "execution_count": 1580,
     "metadata": {},
     "output_type": "execute_result"
    },
    {
     "data": {
      "image/png": "[encoded data removed]",
      "text/plain": [
       "<Figure size 1400x500 with 1 Axes>"
      ]
     },
     "metadata": {},
     "output_type": "display_data"
    }
   ],
   "source": [
    "sns.scatterplot(x=type_merged.mean_rate, y=type_merged.ratio, hue=type_merged.Type)"
   ]
  },
  {
   "cell_type": "code",
   "execution_count": null,
   "id": "472deb06-ba3e-43c9-96fa-51299d280f5f",
   "metadata": {},
   "outputs": [],
   "source": [
    "# A priori se aprecia una horquilla importante en las valoraciones según el tipo, al márgen de las cantidades de votos.\n",
    "# Curiosamente a mayor número de votos, peor la valoración.\n",
    "# Para un primer análisis, probamos dejar esta variable \"Type\" codificada."
   ]
  },
  {
   "cell_type": "code",
   "execution_count": 1582,
   "id": "0330a45b-1829-475b-86e1-ac76cc796278",
   "metadata": {
    "tags": []
   },
   "outputs": [
    {
     "data": {
      "text/html": [
       "<div>\n",
       "<style scoped>\n",
       "    .dataframe tbody tr th:only-of-type {\n",
       "        vertical-align: middle;\n",
       "    }\n",
       "\n",
       "    .dataframe tbody tr th {\n",
       "        vertical-align: top;\n",
       "    }\n",
       "\n",
       "    .dataframe thead th {\n",
       "        text-align: right;\n",
       "    }\n",
       "</style>\n",
       "<table border=\"1\" class=\"dataframe\">\n",
       "  <thead>\n",
       "    <tr style=\"text-align: right;\">\n",
       "      <th></th>\n",
       "      <th>location</th>\n",
       "      <th>count</th>\n",
       "    </tr>\n",
       "  </thead>\n",
       "  <tbody>\n",
       "    <tr>\n",
       "      <th>0</th>\n",
       "      <td>BTM</td>\n",
       "      <td>3930.0</td>\n",
       "    </tr>\n",
       "    <tr>\n",
       "      <th>1</th>\n",
       "      <td>Koramangala 5th Block</td>\n",
       "      <td>2319.0</td>\n",
       "    </tr>\n",
       "    <tr>\n",
       "      <th>2</th>\n",
       "      <td>HSR</td>\n",
       "      <td>2019.0</td>\n",
       "    </tr>\n",
       "    <tr>\n",
       "      <th>3</th>\n",
       "      <td>Indiranagar</td>\n",
       "      <td>1847.0</td>\n",
       "    </tr>\n",
       "    <tr>\n",
       "      <th>4</th>\n",
       "      <td>JP Nagar</td>\n",
       "      <td>1717.0</td>\n",
       "    </tr>\n",
       "    <tr>\n",
       "      <th>...</th>\n",
       "      <td>...</td>\n",
       "      <td>...</td>\n",
       "    </tr>\n",
       "    <tr>\n",
       "      <th>87</th>\n",
       "      <td>Yelahanka</td>\n",
       "      <td>5.0</td>\n",
       "    </tr>\n",
       "    <tr>\n",
       "      <th>88</th>\n",
       "      <td>West Bangalore</td>\n",
       "      <td>3.0</td>\n",
       "    </tr>\n",
       "    <tr>\n",
       "      <th>89</th>\n",
       "      <td>Rajarajeshwari Nagar</td>\n",
       "      <td>2.0</td>\n",
       "    </tr>\n",
       "    <tr>\n",
       "      <th>90</th>\n",
       "      <td>Nagarbhavi</td>\n",
       "      <td>1.0</td>\n",
       "    </tr>\n",
       "    <tr>\n",
       "      <th>91</th>\n",
       "      <td>Peenya</td>\n",
       "      <td>1.0</td>\n",
       "    </tr>\n",
       "  </tbody>\n",
       "</table>\n",
       "<p>92 rows × 2 columns</p>\n",
       "</div>"
      ],
      "text/plain": [
       "                 location   count\n",
       "0                     BTM  3930.0\n",
       "1   Koramangala 5th Block  2319.0\n",
       "2                     HSR  2019.0\n",
       "3             Indiranagar  1847.0\n",
       "4                JP Nagar  1717.0\n",
       "..                    ...     ...\n",
       "87              Yelahanka     5.0\n",
       "88         West Bangalore     3.0\n",
       "89   Rajarajeshwari Nagar     2.0\n",
       "90             Nagarbhavi     1.0\n",
       "91                 Peenya     1.0\n",
       "\n",
       "[92 rows x 2 columns]"
      ]
     },
     "execution_count": 1582,
     "metadata": {},
     "output_type": "execute_result"
    }
   ],
   "source": [
    "# Similar a la variable anterior, retomamos \"location\" para ver su relación con las valoraciones y número de restaurantes:\n",
    "\n",
    "location_count = rest_full_a.location.value_counts()\n",
    "\n",
    "# Generamos un DS a partir del cálculo previo:\n",
    "\n",
    "location_ct = location_count.reset_index()\n",
    "location_ct.columns = ['location', 'count']\n",
    "location_ct['count'] = location_ct['count'].astype(float)\n",
    "location_ct"
   ]
  },
  {
   "cell_type": "code",
   "execution_count": 1584,
   "id": "a260144b-d455-426f-b18d-dfbabc962dcd",
   "metadata": {
    "tags": []
   },
   "outputs": [
    {
     "data": {
      "text/html": [
       "<div>\n",
       "<style scoped>\n",
       "    .dataframe tbody tr th:only-of-type {\n",
       "        vertical-align: middle;\n",
       "    }\n",
       "\n",
       "    .dataframe tbody tr th {\n",
       "        vertical-align: top;\n",
       "    }\n",
       "\n",
       "    .dataframe thead th {\n",
       "        text-align: right;\n",
       "    }\n",
       "</style>\n",
       "<table border=\"1\" class=\"dataframe\">\n",
       "  <thead>\n",
       "    <tr style=\"text-align: right;\">\n",
       "      <th></th>\n",
       "      <th>mean_rate</th>\n",
       "    </tr>\n",
       "    <tr>\n",
       "      <th>location</th>\n",
       "      <th></th>\n",
       "    </tr>\n",
       "  </thead>\n",
       "  <tbody>\n",
       "    <tr>\n",
       "      <th>BTM</th>\n",
       "      <td>3.573740</td>\n",
       "    </tr>\n",
       "    <tr>\n",
       "      <th>Banashankari</th>\n",
       "      <td>3.649866</td>\n",
       "    </tr>\n",
       "    <tr>\n",
       "      <th>Banaswadi</th>\n",
       "      <td>3.496042</td>\n",
       "    </tr>\n",
       "    <tr>\n",
       "      <th>Bannerghatta Road</th>\n",
       "      <td>3.507449</td>\n",
       "    </tr>\n",
       "    <tr>\n",
       "      <th>Basavanagudi</th>\n",
       "      <td>3.671092</td>\n",
       "    </tr>\n",
       "    <tr>\n",
       "      <th>...</th>\n",
       "      <td>...</td>\n",
       "    </tr>\n",
       "    <tr>\n",
       "      <th>West Bangalore</th>\n",
       "      <td>3.366667</td>\n",
       "    </tr>\n",
       "    <tr>\n",
       "      <th>Whitefield</th>\n",
       "      <td>3.621618</td>\n",
       "    </tr>\n",
       "    <tr>\n",
       "      <th>Wilson Garden</th>\n",
       "      <td>3.536364</td>\n",
       "    </tr>\n",
       "    <tr>\n",
       "      <th>Yelahanka</th>\n",
       "      <td>3.640000</td>\n",
       "    </tr>\n",
       "    <tr>\n",
       "      <th>Yeshwantpur</th>\n",
       "      <td>3.502679</td>\n",
       "    </tr>\n",
       "  </tbody>\n",
       "</table>\n",
       "<p>92 rows × 1 columns</p>\n",
       "</div>"
      ],
      "text/plain": [
       "                   mean_rate\n",
       "location                    \n",
       "BTM                 3.573740\n",
       "Banashankari        3.649866\n",
       "Banaswadi           3.496042\n",
       "Bannerghatta Road   3.507449\n",
       "Basavanagudi        3.671092\n",
       "...                      ...\n",
       "West Bangalore      3.366667\n",
       "Whitefield          3.621618\n",
       "Wilson Garden       3.536364\n",
       "Yelahanka           3.640000\n",
       "Yeshwantpur         3.502679\n",
       "\n",
       "[92 rows x 1 columns]"
      ]
     },
     "execution_count": 1584,
     "metadata": {},
     "output_type": "execute_result"
    }
   ],
   "source": [
    "# Calculamos las medias de valoración media por localidad:\n",
    "\n",
    "loc_mean = rest_full_a.groupby(\"location\").agg(mean_rate=(\"rate\", \"mean\"))\n",
    "loc_mean"
   ]
  },
  {
   "cell_type": "code",
   "execution_count": 1586,
   "id": "c0b26131-84e5-4220-8425-90b32c963e61",
   "metadata": {
    "tags": []
   },
   "outputs": [],
   "source": [
    "# Unimos los DS previos\n",
    "\n",
    "loc_merged = pd.merge(location_ct, loc_mean, on='location', how='left')"
   ]
  },
  {
   "cell_type": "code",
   "execution_count": 1588,
   "id": "7b1da1fc-02a3-4de7-aed5-6bcf129653df",
   "metadata": {
    "tags": []
   },
   "outputs": [],
   "source": [
    "# Al tratarse de 92 distintos valores nos centramos en los primeros 25 por facilitar su visualización:\n",
    "\n",
    "loc_merged_25 = loc_merged.head(25)"
   ]
  },
  {
   "cell_type": "code",
   "execution_count": 1590,
   "id": "b3249274-6269-417a-920a-7db52095911a",
   "metadata": {
    "tags": []
   },
   "outputs": [
    {
     "name": "stderr",
     "output_type": "stream",
     "text": [
      "C:\\Users\\PC\\AppData\\Local\\Temp\\ipykernel_13292\\1567957682.py:3: SettingWithCopyWarning: \n",
      "A value is trying to be set on a copy of a slice from a DataFrame.\n",
      "Try using .loc[row_indexer,col_indexer] = value instead\n",
      "\n",
      "See the caveats in the documentation: https://pandas.pydata.org/pandas-docs/stable/user_guide/indexing.html#returning-a-view-versus-a-copy\n",
      "  loc_merged_25[\"Count\"] = loc_merged_25[\"count\"].astype(int)\n"
     ]
    },
    {
     "data": {
      "text/html": [
       "<div>\n",
       "<style scoped>\n",
       "    .dataframe tbody tr th:only-of-type {\n",
       "        vertical-align: middle;\n",
       "    }\n",
       "\n",
       "    .dataframe tbody tr th {\n",
       "        vertical-align: top;\n",
       "    }\n",
       "\n",
       "    .dataframe thead th {\n",
       "        text-align: right;\n",
       "    }\n",
       "</style>\n",
       "<table border=\"1\" class=\"dataframe\">\n",
       "  <thead>\n",
       "    <tr style=\"text-align: right;\">\n",
       "      <th></th>\n",
       "      <th>location</th>\n",
       "      <th>count</th>\n",
       "      <th>mean_rate</th>\n",
       "      <th>Count</th>\n",
       "    </tr>\n",
       "  </thead>\n",
       "  <tbody>\n",
       "    <tr>\n",
       "      <th>0</th>\n",
       "      <td>BTM</td>\n",
       "      <td>3930.0</td>\n",
       "      <td>3.573740</td>\n",
       "      <td>3930</td>\n",
       "    </tr>\n",
       "    <tr>\n",
       "      <th>1</th>\n",
       "      <td>Koramangala 5th Block</td>\n",
       "      <td>2319.0</td>\n",
       "      <td>4.005821</td>\n",
       "      <td>2319</td>\n",
       "    </tr>\n",
       "    <tr>\n",
       "      <th>2</th>\n",
       "      <td>HSR</td>\n",
       "      <td>2019.0</td>\n",
       "      <td>3.672164</td>\n",
       "      <td>2019</td>\n",
       "    </tr>\n",
       "    <tr>\n",
       "      <th>3</th>\n",
       "      <td>Indiranagar</td>\n",
       "      <td>1847.0</td>\n",
       "      <td>3.828154</td>\n",
       "      <td>1847</td>\n",
       "    </tr>\n",
       "    <tr>\n",
       "      <th>4</th>\n",
       "      <td>JP Nagar</td>\n",
       "      <td>1717.0</td>\n",
       "      <td>3.675306</td>\n",
       "      <td>1717</td>\n",
       "    </tr>\n",
       "    <tr>\n",
       "      <th>5</th>\n",
       "      <td>Jayanagar</td>\n",
       "      <td>1643.0</td>\n",
       "      <td>3.780280</td>\n",
       "      <td>1643</td>\n",
       "    </tr>\n",
       "    <tr>\n",
       "      <th>6</th>\n",
       "      <td>Whitefield</td>\n",
       "      <td>1582.0</td>\n",
       "      <td>3.621618</td>\n",
       "      <td>1582</td>\n",
       "    </tr>\n",
       "    <tr>\n",
       "      <th>7</th>\n",
       "      <td>Marathahalli</td>\n",
       "      <td>1443.0</td>\n",
       "      <td>3.541927</td>\n",
       "      <td>1443</td>\n",
       "    </tr>\n",
       "    <tr>\n",
       "      <th>8</th>\n",
       "      <td>Bannerghatta Road</td>\n",
       "      <td>1235.0</td>\n",
       "      <td>3.507449</td>\n",
       "      <td>1235</td>\n",
       "    </tr>\n",
       "    <tr>\n",
       "      <th>9</th>\n",
       "      <td>Koramangala 6th Block</td>\n",
       "      <td>1077.0</td>\n",
       "      <td>3.778087</td>\n",
       "      <td>1077</td>\n",
       "    </tr>\n",
       "    <tr>\n",
       "      <th>10</th>\n",
       "      <td>Koramangala 7th Block</td>\n",
       "      <td>1060.0</td>\n",
       "      <td>3.850377</td>\n",
       "      <td>1060</td>\n",
       "    </tr>\n",
       "    <tr>\n",
       "      <th>11</th>\n",
       "      <td>Brigade Road</td>\n",
       "      <td>1052.0</td>\n",
       "      <td>3.705228</td>\n",
       "      <td>1052</td>\n",
       "    </tr>\n",
       "    <tr>\n",
       "      <th>12</th>\n",
       "      <td>Bellandur</td>\n",
       "      <td>1012.0</td>\n",
       "      <td>3.525692</td>\n",
       "      <td>1012</td>\n",
       "    </tr>\n",
       "    <tr>\n",
       "      <th>13</th>\n",
       "      <td>Sarjapur Road</td>\n",
       "      <td>866.0</td>\n",
       "      <td>3.686143</td>\n",
       "      <td>866</td>\n",
       "    </tr>\n",
       "    <tr>\n",
       "      <th>14</th>\n",
       "      <td>Koramangala 1st Block</td>\n",
       "      <td>852.0</td>\n",
       "      <td>3.696831</td>\n",
       "      <td>852</td>\n",
       "    </tr>\n",
       "    <tr>\n",
       "      <th>15</th>\n",
       "      <td>Ulsoor</td>\n",
       "      <td>849.0</td>\n",
       "      <td>3.758304</td>\n",
       "      <td>849</td>\n",
       "    </tr>\n",
       "    <tr>\n",
       "      <th>16</th>\n",
       "      <td>Koramangala 4th Block</td>\n",
       "      <td>841.0</td>\n",
       "      <td>3.918668</td>\n",
       "      <td>841</td>\n",
       "    </tr>\n",
       "    <tr>\n",
       "      <th>17</th>\n",
       "      <td>Electronic City</td>\n",
       "      <td>840.0</td>\n",
       "      <td>3.490952</td>\n",
       "      <td>840</td>\n",
       "    </tr>\n",
       "    <tr>\n",
       "      <th>18</th>\n",
       "      <td>MG Road</td>\n",
       "      <td>811.0</td>\n",
       "      <td>3.855857</td>\n",
       "      <td>811</td>\n",
       "    </tr>\n",
       "    <tr>\n",
       "      <th>19</th>\n",
       "      <td>Banashankari</td>\n",
       "      <td>744.0</td>\n",
       "      <td>3.649866</td>\n",
       "      <td>744</td>\n",
       "    </tr>\n",
       "    <tr>\n",
       "      <th>20</th>\n",
       "      <td>Kalyan Nagar</td>\n",
       "      <td>698.0</td>\n",
       "      <td>3.781948</td>\n",
       "      <td>698</td>\n",
       "    </tr>\n",
       "    <tr>\n",
       "      <th>21</th>\n",
       "      <td>Malleshwaram</td>\n",
       "      <td>642.0</td>\n",
       "      <td>3.759657</td>\n",
       "      <td>642</td>\n",
       "    </tr>\n",
       "    <tr>\n",
       "      <th>22</th>\n",
       "      <td>Richmond Road</td>\n",
       "      <td>612.0</td>\n",
       "      <td>3.820588</td>\n",
       "      <td>612</td>\n",
       "    </tr>\n",
       "    <tr>\n",
       "      <th>23</th>\n",
       "      <td>Residency Road</td>\n",
       "      <td>605.0</td>\n",
       "      <td>3.863636</td>\n",
       "      <td>605</td>\n",
       "    </tr>\n",
       "    <tr>\n",
       "      <th>24</th>\n",
       "      <td>Basavanagudi</td>\n",
       "      <td>595.0</td>\n",
       "      <td>3.671092</td>\n",
       "      <td>595</td>\n",
       "    </tr>\n",
       "  </tbody>\n",
       "</table>\n",
       "</div>"
      ],
      "text/plain": [
       "                 location   count  mean_rate  Count\n",
       "0                     BTM  3930.0   3.573740   3930\n",
       "1   Koramangala 5th Block  2319.0   4.005821   2319\n",
       "2                     HSR  2019.0   3.672164   2019\n",
       "3             Indiranagar  1847.0   3.828154   1847\n",
       "4                JP Nagar  1717.0   3.675306   1717\n",
       "5               Jayanagar  1643.0   3.780280   1643\n",
       "6              Whitefield  1582.0   3.621618   1582\n",
       "7            Marathahalli  1443.0   3.541927   1443\n",
       "8       Bannerghatta Road  1235.0   3.507449   1235\n",
       "9   Koramangala 6th Block  1077.0   3.778087   1077\n",
       "10  Koramangala 7th Block  1060.0   3.850377   1060\n",
       "11           Brigade Road  1052.0   3.705228   1052\n",
       "12              Bellandur  1012.0   3.525692   1012\n",
       "13          Sarjapur Road   866.0   3.686143    866\n",
       "14  Koramangala 1st Block   852.0   3.696831    852\n",
       "15                 Ulsoor   849.0   3.758304    849\n",
       "16  Koramangala 4th Block   841.0   3.918668    841\n",
       "17        Electronic City   840.0   3.490952    840\n",
       "18                MG Road   811.0   3.855857    811\n",
       "19           Banashankari   744.0   3.649866    744\n",
       "20           Kalyan Nagar   698.0   3.781948    698\n",
       "21           Malleshwaram   642.0   3.759657    642\n",
       "22          Richmond Road   612.0   3.820588    612\n",
       "23         Residency Road   605.0   3.863636    605\n",
       "24           Basavanagudi   595.0   3.671092    595"
      ]
     },
     "execution_count": 1590,
     "metadata": {},
     "output_type": "execute_result"
    }
   ],
   "source": [
    "# Hay que crear una columna nueva para count, que permita operar con ella, pues proviene de un value_counts y da fallo a veces al tratarlo como \"method\"\n",
    "\n",
    "loc_merged_25[\"Count\"] = loc_merged_25[\"count\"].astype(int)\n",
    "loc_merged_25"
   ]
  },
  {
   "cell_type": "code",
   "execution_count": 1592,
   "id": "134a0f4f-7331-4a90-b934-6f4b8dfbbcd5",
   "metadata": {
    "tags": []
   },
   "outputs": [
    {
     "data": {
      "text/plain": [
       "<Axes: xlabel='mean_rate', ylabel='Count'>"
      ]
     },
     "execution_count": 1592,
     "metadata": {},
     "output_type": "execute_result"
    },
    {
     "data": {
      "image/png": "[encoded data removed]",
      "text/plain": [
       "<Figure size 1200x800 with 1 Axes>"
      ]
     },
     "metadata": {},
     "output_type": "display_data"
    }
   ],
   "source": [
    "plt.figure(figsize=(12,8))\n",
    "sns.scatterplot(x=loc_merged_25.mean_rate, y=loc_merged_25.Count, hue=loc_merged_25.location)"
   ]
  },
  {
   "cell_type": "code",
   "execution_count": null,
   "id": "0114dd3b-f9b0-460b-8cd4-83dcfa8e596b",
   "metadata": {},
   "outputs": [],
   "source": [
    "# Podría usarse location para predicción del rate pero su alta variedad lo haría muy complejo y pesado. Descartamos location finalmente."
   ]
  },
  {
   "cell_type": "code",
   "execution_count": null,
   "id": "49eb1032-40c9-426e-adcd-f181e94c65a7",
   "metadata": {},
   "outputs": [],
   "source": []
  },
  {
   "cell_type": "code",
   "execution_count": 1594,
   "id": "5e32a690-2cec-4000-a70b-c3d2babf1599",
   "metadata": {
    "tags": []
   },
   "outputs": [
    {
     "data": {
      "text/html": [
       "<div>\n",
       "<style scoped>\n",
       "    .dataframe tbody tr th:only-of-type {\n",
       "        vertical-align: middle;\n",
       "    }\n",
       "\n",
       "    .dataframe tbody tr th {\n",
       "        vertical-align: top;\n",
       "    }\n",
       "\n",
       "    .dataframe thead th {\n",
       "        text-align: right;\n",
       "    }\n",
       "</style>\n",
       "<table border=\"1\" class=\"dataframe\">\n",
       "  <thead>\n",
       "    <tr style=\"text-align: right;\">\n",
       "      <th></th>\n",
       "      <th>name</th>\n",
       "      <th>online_order</th>\n",
       "      <th>book_table</th>\n",
       "      <th>rate</th>\n",
       "      <th>votes</th>\n",
       "      <th>location</th>\n",
       "      <th>rest_type</th>\n",
       "      <th>cuisines</th>\n",
       "      <th>Cost2plate</th>\n",
       "      <th>Type</th>\n",
       "    </tr>\n",
       "  </thead>\n",
       "  <tbody>\n",
       "    <tr>\n",
       "      <th>49627</th>\n",
       "      <td>Byg Brewski Brewing Company</td>\n",
       "      <td>Yes</td>\n",
       "      <td>Yes</td>\n",
       "      <td>4.9</td>\n",
       "      <td>16832</td>\n",
       "      <td>Sarjapur Road</td>\n",
       "      <td>Microbrewery</td>\n",
       "      <td>Continental, North Indian, Italian, South Indi...</td>\n",
       "      <td>1600.0</td>\n",
       "      <td>Dine-out</td>\n",
       "    </tr>\n",
       "    <tr>\n",
       "      <th>49170</th>\n",
       "      <td>Byg Brewski Brewing Company</td>\n",
       "      <td>Yes</td>\n",
       "      <td>Yes</td>\n",
       "      <td>4.9</td>\n",
       "      <td>16832</td>\n",
       "      <td>Sarjapur Road</td>\n",
       "      <td>Microbrewery</td>\n",
       "      <td>Continental, North Indian, Italian, South Indi...</td>\n",
       "      <td>1600.0</td>\n",
       "      <td>Delivery</td>\n",
       "    </tr>\n",
       "    <tr>\n",
       "      <th>50059</th>\n",
       "      <td>Byg Brewski Brewing Company</td>\n",
       "      <td>Yes</td>\n",
       "      <td>Yes</td>\n",
       "      <td>4.9</td>\n",
       "      <td>16832</td>\n",
       "      <td>Sarjapur Road</td>\n",
       "      <td>Microbrewery</td>\n",
       "      <td>Continental, North Indian, Italian, South Indi...</td>\n",
       "      <td>1600.0</td>\n",
       "      <td>Drinks &amp; nightlife</td>\n",
       "    </tr>\n",
       "    <tr>\n",
       "      <th>4944</th>\n",
       "      <td>Byg Brewski Brewing Company</td>\n",
       "      <td>Yes</td>\n",
       "      <td>Yes</td>\n",
       "      <td>4.9</td>\n",
       "      <td>16345</td>\n",
       "      <td>Sarjapur Road</td>\n",
       "      <td>Microbrewery</td>\n",
       "      <td>Continental, North Indian, Italian, South Indi...</td>\n",
       "      <td>1600.0</td>\n",
       "      <td>Drinks &amp; nightlife</td>\n",
       "    </tr>\n",
       "    <tr>\n",
       "      <th>4801</th>\n",
       "      <td>Byg Brewski Brewing Company</td>\n",
       "      <td>Yes</td>\n",
       "      <td>Yes</td>\n",
       "      <td>4.9</td>\n",
       "      <td>16345</td>\n",
       "      <td>Sarjapur Road</td>\n",
       "      <td>Microbrewery</td>\n",
       "      <td>Continental, North Indian, Italian, South Indi...</td>\n",
       "      <td>1600.0</td>\n",
       "      <td>Dine-out</td>\n",
       "    </tr>\n",
       "    <tr>\n",
       "      <th>3921</th>\n",
       "      <td>Byg Brewski Brewing Company</td>\n",
       "      <td>Yes</td>\n",
       "      <td>Yes</td>\n",
       "      <td>4.9</td>\n",
       "      <td>16345</td>\n",
       "      <td>Sarjapur Road</td>\n",
       "      <td>Microbrewery</td>\n",
       "      <td>Continental, North Indian, Italian, South Indi...</td>\n",
       "      <td>1600.0</td>\n",
       "      <td>Delivery</td>\n",
       "    </tr>\n",
       "    <tr>\n",
       "      <th>18643</th>\n",
       "      <td>Toit</td>\n",
       "      <td>No</td>\n",
       "      <td>No</td>\n",
       "      <td>4.7</td>\n",
       "      <td>14956</td>\n",
       "      <td>Indiranagar</td>\n",
       "      <td>Microbrewery</td>\n",
       "      <td>Italian, American, Pizza</td>\n",
       "      <td>1500.0</td>\n",
       "      <td>Dine-out</td>\n",
       "    </tr>\n",
       "    <tr>\n",
       "      <th>19268</th>\n",
       "      <td>Toit</td>\n",
       "      <td>No</td>\n",
       "      <td>No</td>\n",
       "      <td>4.7</td>\n",
       "      <td>14956</td>\n",
       "      <td>Indiranagar</td>\n",
       "      <td>Microbrewery</td>\n",
       "      <td>Italian, American, Pizza</td>\n",
       "      <td>1500.0</td>\n",
       "      <td>Drinks &amp; nightlife</td>\n",
       "    </tr>\n",
       "    <tr>\n",
       "      <th>36668</th>\n",
       "      <td>Truffles</td>\n",
       "      <td>No</td>\n",
       "      <td>No</td>\n",
       "      <td>4.7</td>\n",
       "      <td>14726</td>\n",
       "      <td>Koramangala 5th Block</td>\n",
       "      <td>Cafe, Casual Dining</td>\n",
       "      <td>Cafe, American, Burger, Steak</td>\n",
       "      <td>900.0</td>\n",
       "      <td>Dine-out</td>\n",
       "    </tr>\n",
       "    <tr>\n",
       "      <th>36000</th>\n",
       "      <td>Truffles</td>\n",
       "      <td>No</td>\n",
       "      <td>No</td>\n",
       "      <td>4.7</td>\n",
       "      <td>14723</td>\n",
       "      <td>Koramangala 5th Block</td>\n",
       "      <td>Cafe, Casual Dining</td>\n",
       "      <td>Cafe, American, Burger, Steak</td>\n",
       "      <td>900.0</td>\n",
       "      <td>Delivery</td>\n",
       "    </tr>\n",
       "    <tr>\n",
       "      <th>34779</th>\n",
       "      <td>Truffles</td>\n",
       "      <td>No</td>\n",
       "      <td>No</td>\n",
       "      <td>4.7</td>\n",
       "      <td>14723</td>\n",
       "      <td>Koramangala 5th Block</td>\n",
       "      <td>Cafe, Casual Dining</td>\n",
       "      <td>Cafe, American, Burger, Steak</td>\n",
       "      <td>900.0</td>\n",
       "      <td>Cafes</td>\n",
       "    </tr>\n",
       "    <tr>\n",
       "      <th>33913</th>\n",
       "      <td>Truffles</td>\n",
       "      <td>No</td>\n",
       "      <td>No</td>\n",
       "      <td>4.7</td>\n",
       "      <td>14723</td>\n",
       "      <td>Koramangala 5th Block</td>\n",
       "      <td>Cafe, Casual Dining</td>\n",
       "      <td>Cafe, American, Burger, Steak</td>\n",
       "      <td>900.0</td>\n",
       "      <td>Dine-out</td>\n",
       "    </tr>\n",
       "    <tr>\n",
       "      <th>33312</th>\n",
       "      <td>Truffles</td>\n",
       "      <td>No</td>\n",
       "      <td>No</td>\n",
       "      <td>4.7</td>\n",
       "      <td>14717</td>\n",
       "      <td>Koramangala 5th Block</td>\n",
       "      <td>Cafe, Casual Dining</td>\n",
       "      <td>Cafe, American, Burger, Steak</td>\n",
       "      <td>900.0</td>\n",
       "      <td>Delivery</td>\n",
       "    </tr>\n",
       "    <tr>\n",
       "      <th>32152</th>\n",
       "      <td>Truffles</td>\n",
       "      <td>No</td>\n",
       "      <td>No</td>\n",
       "      <td>4.7</td>\n",
       "      <td>14717</td>\n",
       "      <td>Koramangala 5th Block</td>\n",
       "      <td>Cafe, Casual Dining</td>\n",
       "      <td>Cafe, American, Burger, Steak</td>\n",
       "      <td>900.0</td>\n",
       "      <td>Cafes</td>\n",
       "    </tr>\n",
       "    <tr>\n",
       "      <th>31055</th>\n",
       "      <td>Truffles</td>\n",
       "      <td>No</td>\n",
       "      <td>No</td>\n",
       "      <td>4.7</td>\n",
       "      <td>14710</td>\n",
       "      <td>Koramangala 5th Block</td>\n",
       "      <td>Cafe, Casual Dining</td>\n",
       "      <td>Cafe, American, Burger, Steak</td>\n",
       "      <td>900.0</td>\n",
       "      <td>Dine-out</td>\n",
       "    </tr>\n",
       "    <tr>\n",
       "      <th>29303</th>\n",
       "      <td>Truffles</td>\n",
       "      <td>No</td>\n",
       "      <td>No</td>\n",
       "      <td>4.7</td>\n",
       "      <td>14710</td>\n",
       "      <td>Koramangala 5th Block</td>\n",
       "      <td>Cafe, Casual Dining</td>\n",
       "      <td>Cafe, American, Burger, Steak</td>\n",
       "      <td>900.0</td>\n",
       "      <td>Cafes</td>\n",
       "    </tr>\n",
       "    <tr>\n",
       "      <th>29414</th>\n",
       "      <td>Truffles</td>\n",
       "      <td>No</td>\n",
       "      <td>No</td>\n",
       "      <td>4.7</td>\n",
       "      <td>14710</td>\n",
       "      <td>Koramangala 5th Block</td>\n",
       "      <td>Cafe, Casual Dining</td>\n",
       "      <td>Cafe, American, Burger, Steak</td>\n",
       "      <td>900.0</td>\n",
       "      <td>Delivery</td>\n",
       "    </tr>\n",
       "    <tr>\n",
       "      <th>28384</th>\n",
       "      <td>Truffles</td>\n",
       "      <td>No</td>\n",
       "      <td>No</td>\n",
       "      <td>4.7</td>\n",
       "      <td>14704</td>\n",
       "      <td>Koramangala 5th Block</td>\n",
       "      <td>Cafe, Casual Dining</td>\n",
       "      <td>Cafe, American, Burger, Steak</td>\n",
       "      <td>900.0</td>\n",
       "      <td>Dine-out</td>\n",
       "    </tr>\n",
       "    <tr>\n",
       "      <th>27806</th>\n",
       "      <td>Truffles</td>\n",
       "      <td>No</td>\n",
       "      <td>No</td>\n",
       "      <td>4.7</td>\n",
       "      <td>14694</td>\n",
       "      <td>Koramangala 5th Block</td>\n",
       "      <td>Cafe, Casual Dining</td>\n",
       "      <td>Cafe, American, Burger, Steak</td>\n",
       "      <td>900.0</td>\n",
       "      <td>Delivery</td>\n",
       "    </tr>\n",
       "    <tr>\n",
       "      <th>26549</th>\n",
       "      <td>Truffles</td>\n",
       "      <td>No</td>\n",
       "      <td>No</td>\n",
       "      <td>4.7</td>\n",
       "      <td>14690</td>\n",
       "      <td>Koramangala 5th Block</td>\n",
       "      <td>Cafe, Casual Dining</td>\n",
       "      <td>Cafe, American, Burger, Steak</td>\n",
       "      <td>900.0</td>\n",
       "      <td>Cafes</td>\n",
       "    </tr>\n",
       "    <tr>\n",
       "      <th>9807</th>\n",
       "      <td>Truffles</td>\n",
       "      <td>No</td>\n",
       "      <td>No</td>\n",
       "      <td>4.7</td>\n",
       "      <td>14654</td>\n",
       "      <td>Koramangala 5th Block</td>\n",
       "      <td>Cafe, Casual Dining</td>\n",
       "      <td>Cafe, American, Burger, Steak</td>\n",
       "      <td>900.0</td>\n",
       "      <td>Delivery</td>\n",
       "    </tr>\n",
       "    <tr>\n",
       "      <th>10860</th>\n",
       "      <td>Truffles</td>\n",
       "      <td>No</td>\n",
       "      <td>No</td>\n",
       "      <td>4.7</td>\n",
       "      <td>14654</td>\n",
       "      <td>Koramangala 5th Block</td>\n",
       "      <td>Cafe, Casual Dining</td>\n",
       "      <td>Cafe, American, Burger, Steak</td>\n",
       "      <td>900.0</td>\n",
       "      <td>Dine-out</td>\n",
       "    </tr>\n",
       "    <tr>\n",
       "      <th>8330</th>\n",
       "      <td>Truffles</td>\n",
       "      <td>No</td>\n",
       "      <td>No</td>\n",
       "      <td>4.7</td>\n",
       "      <td>14654</td>\n",
       "      <td>Koramangala 5th Block</td>\n",
       "      <td>Cafe, Casual Dining</td>\n",
       "      <td>Cafe, American, Burger, Steak</td>\n",
       "      <td>900.0</td>\n",
       "      <td>Cafes</td>\n",
       "    </tr>\n",
       "    <tr>\n",
       "      <th>40506</th>\n",
       "      <td>AB's - Absolute Barbecues</td>\n",
       "      <td>No</td>\n",
       "      <td>Yes</td>\n",
       "      <td>4.8</td>\n",
       "      <td>12121</td>\n",
       "      <td>Marathahalli</td>\n",
       "      <td>Casual Dining</td>\n",
       "      <td>European, Mediterranean, North Indian, BBQ</td>\n",
       "      <td>1600.0</td>\n",
       "      <td>Buffet</td>\n",
       "    </tr>\n",
       "    <tr>\n",
       "      <th>41525</th>\n",
       "      <td>AB's - Absolute Barbecues</td>\n",
       "      <td>No</td>\n",
       "      <td>Yes</td>\n",
       "      <td>4.8</td>\n",
       "      <td>12121</td>\n",
       "      <td>Marathahalli</td>\n",
       "      <td>Casual Dining</td>\n",
       "      <td>European, Mediterranean, North Indian, BBQ</td>\n",
       "      <td>1600.0</td>\n",
       "      <td>Dine-out</td>\n",
       "    </tr>\n",
       "  </tbody>\n",
       "</table>\n",
       "</div>"
      ],
      "text/plain": [
       "                              name online_order book_table  rate  votes  \\\n",
       "49627  Byg Brewski Brewing Company          Yes        Yes   4.9  16832   \n",
       "49170  Byg Brewski Brewing Company          Yes        Yes   4.9  16832   \n",
       "50059  Byg Brewski Brewing Company          Yes        Yes   4.9  16832   \n",
       "4944   Byg Brewski Brewing Company          Yes        Yes   4.9  16345   \n",
       "4801   Byg Brewski Brewing Company          Yes        Yes   4.9  16345   \n",
       "3921   Byg Brewski Brewing Company          Yes        Yes   4.9  16345   \n",
       "18643                         Toit           No         No   4.7  14956   \n",
       "19268                         Toit           No         No   4.7  14956   \n",
       "36668                     Truffles           No         No   4.7  14726   \n",
       "36000                     Truffles           No         No   4.7  14723   \n",
       "34779                     Truffles           No         No   4.7  14723   \n",
       "33913                     Truffles           No         No   4.7  14723   \n",
       "33312                     Truffles           No         No   4.7  14717   \n",
       "32152                     Truffles           No         No   4.7  14717   \n",
       "31055                     Truffles           No         No   4.7  14710   \n",
       "29303                     Truffles           No         No   4.7  14710   \n",
       "29414                     Truffles           No         No   4.7  14710   \n",
       "28384                     Truffles           No         No   4.7  14704   \n",
       "27806                     Truffles           No         No   4.7  14694   \n",
       "26549                     Truffles           No         No   4.7  14690   \n",
       "9807                      Truffles           No         No   4.7  14654   \n",
       "10860                     Truffles           No         No   4.7  14654   \n",
       "8330                      Truffles           No         No   4.7  14654   \n",
       "40506    AB's - Absolute Barbecues           No        Yes   4.8  12121   \n",
       "41525    AB's - Absolute Barbecues           No        Yes   4.8  12121   \n",
       "\n",
       "                    location            rest_type  \\\n",
       "49627          Sarjapur Road         Microbrewery   \n",
       "49170          Sarjapur Road         Microbrewery   \n",
       "50059          Sarjapur Road         Microbrewery   \n",
       "4944           Sarjapur Road         Microbrewery   \n",
       "4801           Sarjapur Road         Microbrewery   \n",
       "3921           Sarjapur Road         Microbrewery   \n",
       "18643            Indiranagar         Microbrewery   \n",
       "19268            Indiranagar         Microbrewery   \n",
       "36668  Koramangala 5th Block  Cafe, Casual Dining   \n",
       "36000  Koramangala 5th Block  Cafe, Casual Dining   \n",
       "34779  Koramangala 5th Block  Cafe, Casual Dining   \n",
       "33913  Koramangala 5th Block  Cafe, Casual Dining   \n",
       "33312  Koramangala 5th Block  Cafe, Casual Dining   \n",
       "32152  Koramangala 5th Block  Cafe, Casual Dining   \n",
       "31055  Koramangala 5th Block  Cafe, Casual Dining   \n",
       "29303  Koramangala 5th Block  Cafe, Casual Dining   \n",
       "29414  Koramangala 5th Block  Cafe, Casual Dining   \n",
       "28384  Koramangala 5th Block  Cafe, Casual Dining   \n",
       "27806  Koramangala 5th Block  Cafe, Casual Dining   \n",
       "26549  Koramangala 5th Block  Cafe, Casual Dining   \n",
       "9807   Koramangala 5th Block  Cafe, Casual Dining   \n",
       "10860  Koramangala 5th Block  Cafe, Casual Dining   \n",
       "8330   Koramangala 5th Block  Cafe, Casual Dining   \n",
       "40506           Marathahalli        Casual Dining   \n",
       "41525           Marathahalli        Casual Dining   \n",
       "\n",
       "                                                cuisines  Cost2plate  \\\n",
       "49627  Continental, North Indian, Italian, South Indi...      1600.0   \n",
       "49170  Continental, North Indian, Italian, South Indi...      1600.0   \n",
       "50059  Continental, North Indian, Italian, South Indi...      1600.0   \n",
       "4944   Continental, North Indian, Italian, South Indi...      1600.0   \n",
       "4801   Continental, North Indian, Italian, South Indi...      1600.0   \n",
       "3921   Continental, North Indian, Italian, South Indi...      1600.0   \n",
       "18643                           Italian, American, Pizza      1500.0   \n",
       "19268                           Italian, American, Pizza      1500.0   \n",
       "36668                      Cafe, American, Burger, Steak       900.0   \n",
       "36000                      Cafe, American, Burger, Steak       900.0   \n",
       "34779                      Cafe, American, Burger, Steak       900.0   \n",
       "33913                      Cafe, American, Burger, Steak       900.0   \n",
       "33312                      Cafe, American, Burger, Steak       900.0   \n",
       "32152                      Cafe, American, Burger, Steak       900.0   \n",
       "31055                      Cafe, American, Burger, Steak       900.0   \n",
       "29303                      Cafe, American, Burger, Steak       900.0   \n",
       "29414                      Cafe, American, Burger, Steak       900.0   \n",
       "28384                      Cafe, American, Burger, Steak       900.0   \n",
       "27806                      Cafe, American, Burger, Steak       900.0   \n",
       "26549                      Cafe, American, Burger, Steak       900.0   \n",
       "9807                       Cafe, American, Burger, Steak       900.0   \n",
       "10860                      Cafe, American, Burger, Steak       900.0   \n",
       "8330                       Cafe, American, Burger, Steak       900.0   \n",
       "40506         European, Mediterranean, North Indian, BBQ      1600.0   \n",
       "41525         European, Mediterranean, North Indian, BBQ      1600.0   \n",
       "\n",
       "                     Type  \n",
       "49627            Dine-out  \n",
       "49170            Delivery  \n",
       "50059  Drinks & nightlife  \n",
       "4944   Drinks & nightlife  \n",
       "4801             Dine-out  \n",
       "3921             Delivery  \n",
       "18643            Dine-out  \n",
       "19268  Drinks & nightlife  \n",
       "36668            Dine-out  \n",
       "36000            Delivery  \n",
       "34779               Cafes  \n",
       "33913            Dine-out  \n",
       "33312            Delivery  \n",
       "32152               Cafes  \n",
       "31055            Dine-out  \n",
       "29303               Cafes  \n",
       "29414            Delivery  \n",
       "28384            Dine-out  \n",
       "27806            Delivery  \n",
       "26549               Cafes  \n",
       "9807             Delivery  \n",
       "10860            Dine-out  \n",
       "8330                Cafes  \n",
       "40506              Buffet  \n",
       "41525            Dine-out  "
      ]
     },
     "execution_count": 1594,
     "metadata": {},
     "output_type": "execute_result"
    }
   ],
   "source": [
    "# Variable votes:\n",
    "rest_full_a.sort_values(by='votes', ascending=False).head(25)\n",
    "\n",
    "# Se observan muchas líneas repetidas si descontamos la variable Type. Habría que hacer una limpieza pues es posible que haya valoraciones falsas o compradas."
   ]
  },
  {
   "cell_type": "code",
   "execution_count": 1598,
   "id": "fba7a733-24c8-489c-b808-0b848c4c8929",
   "metadata": {
    "tags": []
   },
   "outputs": [
    {
     "data": {
      "text/plain": [
       "<Axes: xlabel='rate', ylabel='votes'>"
      ]
     },
     "execution_count": 1598,
     "metadata": {},
     "output_type": "execute_result"
    },
    {
     "data": {
      "image/png": "[encoded data removed]",
      "text/plain": [
       "<Figure size 1400x500 with 1 Axes>"
      ]
     },
     "metadata": {},
     "output_type": "display_data"
    }
   ],
   "source": [
    "# Graficamente se concentran en valoraciones muy altas:\n",
    "\n",
    "sns.barplot(x=rest_full.rate, y=rest_full.votes)"
   ]
  },
  {
   "cell_type": "code",
   "execution_count": 1600,
   "id": "8b831a5f-0deb-4570-995f-e1be6f5d3018",
   "metadata": {
    "tags": []
   },
   "outputs": [],
   "source": [
    "# Redefinimos el DS quitando aquellas entradas duplicadas por el criterio nombre + ubicación + tipo de restaurante + votos:\n",
    "\n",
    "rest_full = rest_full_a.drop_duplicates(subset=['name', 'location', 'rest_type', 'votes'])"
   ]
  },
  {
   "cell_type": "code",
   "execution_count": 1604,
   "id": "7cccc662-2ff7-45ae-9f9a-455b0d455409",
   "metadata": {
    "tags": []
   },
   "outputs": [
    {
     "data": {
      "text/plain": [
       "(16318, 10)"
      ]
     },
     "execution_count": 1604,
     "metadata": {},
     "output_type": "execute_result"
    }
   ],
   "source": [
    "rest_full.shape\n",
    "\n",
    "# pasamos de 40K a 16K entradas !!!"
   ]
  },
  {
   "cell_type": "code",
   "execution_count": 1606,
   "id": "664498ae-5573-4c59-9913-85ab91c12617",
   "metadata": {
    "tags": []
   },
   "outputs": [
    {
     "data": {
      "text/plain": [
       "<Axes: xlabel='Cost2plate', ylabel='Count'>"
      ]
     },
     "execution_count": 1606,
     "metadata": {},
     "output_type": "execute_result"
    },
    {
     "data": {
      "image/png": "[encoded data removed]",
      "text/plain": [
       "<Figure size 1400x500 with 1 Axes>"
      ]
     },
     "metadata": {},
     "output_type": "display_data"
    }
   ],
   "source": [
    "# Variable Cost2plate:\n",
    "\n",
    "sns.histplot(rest_full, x=rest_full.Cost2plate, bins=\"auto\", kde=True)"
   ]
  },
  {
   "cell_type": "code",
   "execution_count": 1608,
   "id": "b7999515-ad55-4ee0-88e7-2b107cd99712",
   "metadata": {
    "tags": []
   },
   "outputs": [],
   "source": [
    "# Para ver su relación (y de las demás variables de interés) con la objetivo lo mejor es pintar un heatmap de su correlación.\n",
    "# Codificamos las variables objeto primero:\n",
    "\n",
    "rest_full_oh = pd.get_dummies(rest_full, columns=['online_order','book_table', 'Type'], drop_first=True)"
   ]
  },
  {
   "cell_type": "code",
   "execution_count": 1610,
   "id": "13d1d6ab-6119-42cd-8b17-d4c5b9f181bb",
   "metadata": {
    "tags": []
   },
   "outputs": [
    {
     "data": {
      "text/html": [
       "<div>\n",
       "<style scoped>\n",
       "    .dataframe tbody tr th:only-of-type {\n",
       "        vertical-align: middle;\n",
       "    }\n",
       "\n",
       "    .dataframe tbody tr th {\n",
       "        vertical-align: top;\n",
       "    }\n",
       "\n",
       "    .dataframe thead th {\n",
       "        text-align: right;\n",
       "    }\n",
       "</style>\n",
       "<table border=\"1\" class=\"dataframe\">\n",
       "  <thead>\n",
       "    <tr style=\"text-align: right;\">\n",
       "      <th></th>\n",
       "      <th>name</th>\n",
       "      <th>rate</th>\n",
       "      <th>votes</th>\n",
       "      <th>location</th>\n",
       "      <th>rest_type</th>\n",
       "      <th>cuisines</th>\n",
       "      <th>Cost2plate</th>\n",
       "      <th>online_order_Yes</th>\n",
       "      <th>book_table_Yes</th>\n",
       "      <th>Type_Cafes</th>\n",
       "      <th>Type_Delivery</th>\n",
       "      <th>Type_Desserts</th>\n",
       "      <th>Type_Dine-out</th>\n",
       "      <th>Type_Drinks &amp; nightlife</th>\n",
       "      <th>Type_Pubs and bars</th>\n",
       "    </tr>\n",
       "  </thead>\n",
       "  <tbody>\n",
       "    <tr>\n",
       "      <th>0</th>\n",
       "      <td>Jalsa</td>\n",
       "      <td>4.1</td>\n",
       "      <td>775</td>\n",
       "      <td>Banashankari</td>\n",
       "      <td>Casual Dining</td>\n",
       "      <td>North Indian, Mughlai, Chinese</td>\n",
       "      <td>800.0</td>\n",
       "      <td>True</td>\n",
       "      <td>True</td>\n",
       "      <td>False</td>\n",
       "      <td>False</td>\n",
       "      <td>False</td>\n",
       "      <td>False</td>\n",
       "      <td>False</td>\n",
       "      <td>False</td>\n",
       "    </tr>\n",
       "    <tr>\n",
       "      <th>1</th>\n",
       "      <td>Spice Elephant</td>\n",
       "      <td>4.1</td>\n",
       "      <td>787</td>\n",
       "      <td>Banashankari</td>\n",
       "      <td>Casual Dining</td>\n",
       "      <td>Chinese, North Indian, Thai</td>\n",
       "      <td>800.0</td>\n",
       "      <td>True</td>\n",
       "      <td>False</td>\n",
       "      <td>False</td>\n",
       "      <td>False</td>\n",
       "      <td>False</td>\n",
       "      <td>False</td>\n",
       "      <td>False</td>\n",
       "      <td>False</td>\n",
       "    </tr>\n",
       "    <tr>\n",
       "      <th>2</th>\n",
       "      <td>San Churro Cafe</td>\n",
       "      <td>3.8</td>\n",
       "      <td>918</td>\n",
       "      <td>Banashankari</td>\n",
       "      <td>Cafe, Casual Dining</td>\n",
       "      <td>Cafe, Mexican, Italian</td>\n",
       "      <td>800.0</td>\n",
       "      <td>True</td>\n",
       "      <td>False</td>\n",
       "      <td>False</td>\n",
       "      <td>False</td>\n",
       "      <td>False</td>\n",
       "      <td>False</td>\n",
       "      <td>False</td>\n",
       "      <td>False</td>\n",
       "    </tr>\n",
       "    <tr>\n",
       "      <th>3</th>\n",
       "      <td>Addhuri Udupi Bhojana</td>\n",
       "      <td>3.7</td>\n",
       "      <td>88</td>\n",
       "      <td>Banashankari</td>\n",
       "      <td>Quick Bites</td>\n",
       "      <td>South Indian, North Indian</td>\n",
       "      <td>300.0</td>\n",
       "      <td>False</td>\n",
       "      <td>False</td>\n",
       "      <td>False</td>\n",
       "      <td>False</td>\n",
       "      <td>False</td>\n",
       "      <td>False</td>\n",
       "      <td>False</td>\n",
       "      <td>False</td>\n",
       "    </tr>\n",
       "    <tr>\n",
       "      <th>4</th>\n",
       "      <td>Grand Village</td>\n",
       "      <td>3.8</td>\n",
       "      <td>166</td>\n",
       "      <td>Basavanagudi</td>\n",
       "      <td>Casual Dining</td>\n",
       "      <td>North Indian, Rajasthani</td>\n",
       "      <td>600.0</td>\n",
       "      <td>False</td>\n",
       "      <td>False</td>\n",
       "      <td>False</td>\n",
       "      <td>False</td>\n",
       "      <td>False</td>\n",
       "      <td>False</td>\n",
       "      <td>False</td>\n",
       "      <td>False</td>\n",
       "    </tr>\n",
       "  </tbody>\n",
       "</table>\n",
       "</div>"
      ],
      "text/plain": [
       "                    name  rate  votes      location            rest_type  \\\n",
       "0                  Jalsa   4.1    775  Banashankari        Casual Dining   \n",
       "1         Spice Elephant   4.1    787  Banashankari        Casual Dining   \n",
       "2        San Churro Cafe   3.8    918  Banashankari  Cafe, Casual Dining   \n",
       "3  Addhuri Udupi Bhojana   3.7     88  Banashankari          Quick Bites   \n",
       "4          Grand Village   3.8    166  Basavanagudi        Casual Dining   \n",
       "\n",
       "                         cuisines  Cost2plate  online_order_Yes  \\\n",
       "0  North Indian, Mughlai, Chinese       800.0              True   \n",
       "1     Chinese, North Indian, Thai       800.0              True   \n",
       "2          Cafe, Mexican, Italian       800.0              True   \n",
       "3      South Indian, North Indian       300.0             False   \n",
       "4        North Indian, Rajasthani       600.0             False   \n",
       "\n",
       "   book_table_Yes  Type_Cafes  Type_Delivery  Type_Desserts  Type_Dine-out  \\\n",
       "0            True       False          False          False          False   \n",
       "1           False       False          False          False          False   \n",
       "2           False       False          False          False          False   \n",
       "3           False       False          False          False          False   \n",
       "4           False       False          False          False          False   \n",
       "\n",
       "   Type_Drinks & nightlife  Type_Pubs and bars  \n",
       "0                    False               False  \n",
       "1                    False               False  \n",
       "2                    False               False  \n",
       "3                    False               False  \n",
       "4                    False               False  "
      ]
     },
     "execution_count": 1610,
     "metadata": {},
     "output_type": "execute_result"
    }
   ],
   "source": [
    "rest_full_oh.head()"
   ]
  },
  {
   "cell_type": "code",
   "execution_count": 1612,
   "id": "4f98550e-c6e0-4719-93e9-e0423d15f43b",
   "metadata": {
    "tags": []
   },
   "outputs": [],
   "source": [
    "# Definimos nuevo DS codificado y con las variables de interés:\n",
    "\n",
    "rest_new = rest_full_oh[[\"rate\", \"votes\", \"Cost2plate\", \"online_order_Yes\", \"book_table_Yes\", \"Type_Cafes\", \"Type_Delivery\", \"Type_Desserts\", \"Type_Dine-out\", \"Type_Drinks & nightlife\", \"Type_Pubs and bars\"]]"
   ]
  },
  {
   "cell_type": "code",
   "execution_count": 1614,
   "id": "f4910651-a1fb-4653-b6b8-b1cd6a2b06ac",
   "metadata": {
    "tags": []
   },
   "outputs": [
    {
     "data": {
      "text/plain": [
       "<Axes: >"
      ]
     },
     "execution_count": 1614,
     "metadata": {},
     "output_type": "execute_result"
    },
    {
     "data": {
      "image/png": "[encoded data removed]",
      "text/plain": [
       "<Figure size 1400x500 with 2 Axes>"
      ]
     },
     "metadata": {},
     "output_type": "display_data"
    }
   ],
   "source": [
    "# Analisis de matriz de correlación\n",
    "\n",
    "cm = rest_new.corr().round(2)\n",
    "sns.heatmap(data=cm, annot=True)\n",
    "\n",
    "# Las variables más relacionadas son: votes, book_table, Cost2plate y Type_Delivery"
   ]
  },
  {
   "cell_type": "code",
   "execution_count": 1616,
   "id": "e5bbcbb9-9422-48df-926c-6a20a7b36219",
   "metadata": {
    "tags": []
   },
   "outputs": [],
   "source": [
    "# A continuación contrastamos el resultado anterior con los feature importances del random forest regressor\n",
    "\n",
    "X_rf = rest_new.drop('rate', axis=1)\n",
    "y = rest_new.rate"
   ]
  },
  {
   "cell_type": "code",
   "execution_count": 1618,
   "id": "4c52f036-4857-4e07-b418-858781aeef26",
   "metadata": {
    "tags": []
   },
   "outputs": [
    {
     "data": {
      "text/html": [
       "<style>#sk-container-id-21 {color: black;background-color: white;}#sk-container-id-21 pre{padding: 0;}#sk-container-id-21 div.sk-toggleable {background-color: white;}#sk-container-id-21 label.sk-toggleable__label {cursor: pointer;display: block;width: 100%;margin-bottom: 0;padding: 0.3em;box-sizing: border-box;text-align: center;}#sk-container-id-21 label.sk-toggleable__label-arrow:before {content: \"▸\";float: left;margin-right: 0.25em;color: #696969;}#sk-container-id-21 label.sk-toggleable__label-arrow:hover:before {color: black;}#sk-container-id-21 div.sk-estimator:hover label.sk-toggleable__label-arrow:before {color: black;}#sk-container-id-21 div.sk-toggleable__content {max-height: 0;max-width: 0;overflow: hidden;text-align: left;background-color: #f0f8ff;}#sk-container-id-21 div.sk-toggleable__content pre {margin: 0.2em;color: black;border-radius: 0.25em;background-color: #f0f8ff;}#sk-container-id-21 input.sk-toggleable__control:checked~div.sk-toggleable__content {max-height: 200px;max-width: 100%;overflow: auto;}#sk-container-id-21 input.sk-toggleable__control:checked~label.sk-toggleable__label-arrow:before {content: \"▾\";}#sk-container-id-21 div.sk-estimator input.sk-toggleable__control:checked~label.sk-toggleable__label {background-color: #d4ebff;}#sk-container-id-21 div.sk-label input.sk-toggleable__control:checked~label.sk-toggleable__label {background-color: #d4ebff;}#sk-container-id-21 input.sk-hidden--visually {border: 0;clip: rect(1px 1px 1px 1px);clip: rect(1px, 1px, 1px, 1px);height: 1px;margin: -1px;overflow: hidden;padding: 0;position: absolute;width: 1px;}#sk-container-id-21 div.sk-estimator {font-family: monospace;background-color: #f0f8ff;border: 1px dotted black;border-radius: 0.25em;box-sizing: border-box;margin-bottom: 0.5em;}#sk-container-id-21 div.sk-estimator:hover {background-color: #d4ebff;}#sk-container-id-21 div.sk-parallel-item::after {content: \"\";width: 100%;border-bottom: 1px solid gray;flex-grow: 1;}#sk-container-id-21 div.sk-label:hover label.sk-toggleable__label {background-color: #d4ebff;}#sk-container-id-21 div.sk-serial::before {content: \"\";position: absolute;border-left: 1px solid gray;box-sizing: border-box;top: 0;bottom: 0;left: 50%;z-index: 0;}#sk-container-id-21 div.sk-serial {display: flex;flex-direction: column;align-items: center;background-color: white;padding-right: 0.2em;padding-left: 0.2em;position: relative;}#sk-container-id-21 div.sk-item {position: relative;z-index: 1;}#sk-container-id-21 div.sk-parallel {display: flex;align-items: stretch;justify-content: center;background-color: white;position: relative;}#sk-container-id-21 div.sk-item::before, #sk-container-id-21 div.sk-parallel-item::before {content: \"\";position: absolute;border-left: 1px solid gray;box-sizing: border-box;top: 0;bottom: 0;left: 50%;z-index: -1;}#sk-container-id-21 div.sk-parallel-item {display: flex;flex-direction: column;z-index: 1;position: relative;background-color: white;}#sk-container-id-21 div.sk-parallel-item:first-child::after {align-self: flex-end;width: 50%;}#sk-container-id-21 div.sk-parallel-item:last-child::after {align-self: flex-start;width: 50%;}#sk-container-id-21 div.sk-parallel-item:only-child::after {width: 0;}#sk-container-id-21 div.sk-dashed-wrapped {border: 1px dashed gray;margin: 0 0.4em 0.5em 0.4em;box-sizing: border-box;padding-bottom: 0.4em;background-color: white;}#sk-container-id-21 div.sk-label label {font-family: monospace;font-weight: bold;display: inline-block;line-height: 1.2em;}#sk-container-id-21 div.sk-label-container {text-align: center;}#sk-container-id-21 div.sk-container {/* jupyter's `normalize.less` sets `[hidden] { display: none; }` but bootstrap.min.css set `[hidden] { display: none !important; }` so we also need the `!important` here to be able to override the default hidden behavior on the sphinx rendered scikit-learn.org. See: https://github.com/scikit-learn/scikit-learn/issues/21755 */display: inline-block !important;position: relative;}#sk-container-id-21 div.sk-text-repr-fallback {display: none;}</style><div id=\"sk-container-id-21\" class=\"sk-top-container\"><div class=\"sk-text-repr-fallback\"><pre>RandomForestRegressor()</pre><b>In a Jupyter environment, please rerun this cell to show the HTML representation or trust the notebook. <br />On GitHub, the HTML representation is unable to render, please try loading this page with nbviewer.org.</b></div><div class=\"sk-container\" hidden><div class=\"sk-item\"><div class=\"sk-estimator sk-toggleable\"><input class=\"sk-toggleable__control sk-hidden--visually\" id=\"sk-estimator-id-37\" type=\"checkbox\" checked><label for=\"sk-estimator-id-37\" class=\"sk-toggleable__label sk-toggleable__label-arrow\">RandomForestRegressor</label><div class=\"sk-toggleable__content\"><pre>RandomForestRegressor()</pre></div></div></div></div></div>"
      ],
      "text/plain": [
       "RandomForestRegressor()"
      ]
     },
     "execution_count": 1618,
     "metadata": {},
     "output_type": "execute_result"
    }
   ],
   "source": [
    "from sklearn.ensemble import RandomForestRegressor\n",
    "\n",
    "rf = RandomForestRegressor()\n",
    "rf.fit(X_rf, y)"
   ]
  },
  {
   "cell_type": "code",
   "execution_count": 1622,
   "id": "aada16ac-9591-42a8-8086-86d73346e7f9",
   "metadata": {
    "tags": []
   },
   "outputs": [],
   "source": [
    "importancias = rf.feature_importances_\n",
    "forest_importances = pd.Series(importancias, index=X_rf.columns)"
   ]
  },
  {
   "cell_type": "code",
   "execution_count": 1624,
   "id": "c7737362-0504-4064-9451-990bf534014b",
   "metadata": {
    "tags": []
   },
   "outputs": [
    {
     "data": {
      "text/plain": [
       "Text(0.5, 1.0, 'Importancia de las variables')"
      ]
     },
     "execution_count": 1624,
     "metadata": {},
     "output_type": "execute_result"
    },
    {
     "data": {
      "image/png": "[encoded data removed]",
      "text/plain": [
       "<Figure size 1400x500 with 1 Axes>"
      ]
     },
     "metadata": {},
     "output_type": "display_data"
    }
   ],
   "source": [
    "forest_importances.plot.bar().set_title(\"Importancia de las variables\")\n",
    "\n",
    "# Las variables más relacionadas son: votes, Cost2plate, online_order, y book_table\n",
    "# Tres de estas coinciden con la matriz de correlación, pero mantenemos estas últimas 4 referentes al feature importances."
   ]
  },
  {
   "cell_type": "code",
   "execution_count": 1626,
   "id": "81885b25-4f8f-4908-9098-7d50fff580d6",
   "metadata": {
    "tags": []
   },
   "outputs": [],
   "source": [
    "# Definimos la X de acuerdo a lo anterior:\n",
    "\n",
    "X = rest_new[[\"votes\", \"Cost2plate\", \"online_order_Yes\", \"book_table_Yes\"]]"
   ]
  },
  {
   "cell_type": "code",
   "execution_count": null,
   "id": "20a223fb-d93f-4bd1-9a9e-f4fa6b86454f",
   "metadata": {},
   "outputs": [],
   "source": [
    "# g) Aplica un modelo de Regresión de los vistos en clase para tratar de predecir la valoración de los usuarios. Trata de mejorar los resultados aplicando otros modelos. (Regresión Lineal Múltiple, Árboles de Regresión o Random Forest Regressor)\n"
   ]
  },
  {
   "cell_type": "code",
   "execution_count": 1628,
   "id": "9cc45683-0e4d-4cb6-a7be-48acd9044f99",
   "metadata": {
    "tags": []
   },
   "outputs": [],
   "source": [
    "# Separamos datos de train y de test::\n",
    "\n",
    "X_train, X_test, y_train, y_test = train_test_split(X, y, test_size = 0.2, random_state = 0)"
   ]
  },
  {
   "cell_type": "code",
   "execution_count": 1630,
   "id": "8b033fc9-91fd-4d3a-a3d9-2035592228c4",
   "metadata": {
    "tags": []
   },
   "outputs": [],
   "source": [
    "# Escalado de X:\n",
    "\n",
    "sc_x = StandardScaler()\n",
    "X_train_sc = sc_x.fit_transform(X_train)\n",
    "X_test_sc = sc_x.transform(X_test)"
   ]
  },
  {
   "cell_type": "code",
   "execution_count": 1632,
   "id": "df5c36de-e84c-429a-90b3-f45cfba17001",
   "metadata": {
    "tags": []
   },
   "outputs": [],
   "source": [
    "# LINEAR REGRESSION:\n",
    "\n",
    "lr = LinearRegression()\n",
    "lr.fit(X_train_sc, y_train)\n",
    "y_pred = lr.predict(X_test_sc)\n",
    "y_pt = lr.predict(X_train_sc)"
   ]
  },
  {
   "cell_type": "code",
   "execution_count": 1634,
   "id": "568473e2-7a76-4778-ac6f-d457d6a3f2f9",
   "metadata": {
    "tags": []
   },
   "outputs": [
    {
     "name": "stdout",
     "output_type": "stream",
     "text": [
      "LINEAR REGRESSION:  \n",
      " RMSE_test =  0.38233807683956217\n",
      "RMSE_train =  0.37494945251914225\n"
     ]
    }
   ],
   "source": [
    "# RMSE TEST:\n",
    "\n",
    "rmse_lr = mean_squared_error(y_test, y_pred, squared = False)\n",
    "rmse_lr_tr = mean_squared_error(y_train, y_pt, squared = False)\n",
    "print(\"LINEAR REGRESSION: \", \"\\n\", \"RMSE_test = \", rmse_lr)\n",
    "print(\"RMSE_train = \", rmse_lr_tr)"
   ]
  },
  {
   "cell_type": "code",
   "execution_count": 1636,
   "id": "720d3618-dbd6-49c0-824a-0ac2733a497c",
   "metadata": {
    "tags": []
   },
   "outputs": [],
   "source": [
    "# DECISSION TREE REGRESSOR:\n",
    "\n",
    "dtr = DecisionTreeRegressor(random_state = 0)\n",
    "dtr.fit(X_train_sc, y_train)\n",
    "y_pred_dtr = dtr.predict(X_test_sc)\n",
    "y_pt_dtr = dtr.predict(X_train_sc)"
   ]
  },
  {
   "cell_type": "code",
   "execution_count": 1638,
   "id": "23a46be5-882f-41d4-bb7e-4678476efd4c",
   "metadata": {
    "tags": []
   },
   "outputs": [
    {
     "name": "stdout",
     "output_type": "stream",
     "text": [
      "DECISSION TREE REGRESSOR:  \n",
      " RMSE_test =  0.4043533723832706\n",
      "RMSE_train =  0.19300767316822076\n"
     ]
    }
   ],
   "source": [
    "rmse_dtr = mean_squared_error(y_test, y_pred_dtr, squared = False)\n",
    "rmse_tr_dtr = mean_squared_error(y_train, y_pt_dtr, squared = False)\n",
    "print(\"DECISSION TREE REGRESSOR: \", \"\\n\", \"RMSE_test = \", rmse_dtr)\n",
    "print(\"RMSE_train = \", rmse_tr_dtr)"
   ]
  },
  {
   "cell_type": "code",
   "execution_count": 1640,
   "id": "d0ebe1f7-ed53-4e33-95cd-201b6a2bd5a7",
   "metadata": {
    "tags": []
   },
   "outputs": [],
   "source": [
    "# RANDOM FOREST REGRESSOR:\n",
    "\n",
    "rfr = RandomForestRegressor(random_state = 0)\n",
    "rfr.fit(X_train_sc, y_train)\n",
    "y_pred_rfr = rfr.predict(X_test_sc)\n",
    "y_pt_rfr = rfr.predict(X_train_sc)"
   ]
  },
  {
   "cell_type": "code",
   "execution_count": 1641,
   "id": "b6902b82-1f1b-4c0f-b28b-b054be4854e4",
   "metadata": {
    "tags": []
   },
   "outputs": [
    {
     "name": "stdout",
     "output_type": "stream",
     "text": [
      "RANDOM FOREST REGRESSOR:  \n",
      " RMSE_test =  0.35067260877518214\n",
      "RMSE_train =  0.2102567378519423\n"
     ]
    }
   ],
   "source": [
    "rmse_rfr = mean_squared_error(y_test, y_pred_rfr, squared = False)\n",
    "rmse_tr_rfr = mean_squared_error(y_train, y_pt_rfr, squared = False)\n",
    "print(\"RANDOM FOREST REGRESSOR: \", \"\\n\", \"RMSE_test = \", rmse_rfr)\n",
    "print(\"RMSE_train = \", rmse_tr_rfr)"
   ]
  },
  {
   "cell_type": "code",
   "execution_count": 1330,
   "id": "13ec2e78-9205-48d5-8eb6-b7dac17364c3",
   "metadata": {
    "tags": []
   },
   "outputs": [],
   "source": [
    "# Probamos optimizarlo con GridSearchCV\n",
    "\n",
    "parameters = {'n_estimators': [10, 50, 100, 150, 200],\n",
    "                  'min_samples_leaf': [5, 10, 15, 20],\n",
    "                  'max_depth': [4, 6, 8, 10]\n",
    "                 }"
   ]
  },
  {
   "cell_type": "code",
   "execution_count": 1644,
   "id": "61087f7f-e106-4e82-b3e4-45db9390036e",
   "metadata": {
    "tags": []
   },
   "outputs": [],
   "source": [
    "grid_forest = GridSearchCV(estimator=rfr, param_grid = parameters)"
   ]
  },
  {
   "cell_type": "code",
   "execution_count": 1646,
   "id": "8d2f5643-6c6c-44c6-a287-5336555b1201",
   "metadata": {
    "tags": []
   },
   "outputs": [
    {
     "data": {
      "text/html": [
       "<style>#sk-container-id-22 {color: black;background-color: white;}#sk-container-id-22 pre{padding: 0;}#sk-container-id-22 div.sk-toggleable {background-color: white;}#sk-container-id-22 label.sk-toggleable__label {cursor: pointer;display: block;width: 100%;margin-bottom: 0;padding: 0.3em;box-sizing: border-box;text-align: center;}#sk-container-id-22 label.sk-toggleable__label-arrow:before {content: \"▸\";float: left;margin-right: 0.25em;color: #696969;}#sk-container-id-22 label.sk-toggleable__label-arrow:hover:before {color: black;}#sk-container-id-22 div.sk-estimator:hover label.sk-toggleable__label-arrow:before {color: black;}#sk-container-id-22 div.sk-toggleable__content {max-height: 0;max-width: 0;overflow: hidden;text-align: left;background-color: #f0f8ff;}#sk-container-id-22 div.sk-toggleable__content pre {margin: 0.2em;color: black;border-radius: 0.25em;background-color: #f0f8ff;}#sk-container-id-22 input.sk-toggleable__control:checked~div.sk-toggleable__content {max-height: 200px;max-width: 100%;overflow: auto;}#sk-container-id-22 input.sk-toggleable__control:checked~label.sk-toggleable__label-arrow:before {content: \"▾\";}#sk-container-id-22 div.sk-estimator input.sk-toggleable__control:checked~label.sk-toggleable__label {background-color: #d4ebff;}#sk-container-id-22 div.sk-label input.sk-toggleable__control:checked~label.sk-toggleable__label {background-color: #d4ebff;}#sk-container-id-22 input.sk-hidden--visually {border: 0;clip: rect(1px 1px 1px 1px);clip: rect(1px, 1px, 1px, 1px);height: 1px;margin: -1px;overflow: hidden;padding: 0;position: absolute;width: 1px;}#sk-container-id-22 div.sk-estimator {font-family: monospace;background-color: #f0f8ff;border: 1px dotted black;border-radius: 0.25em;box-sizing: border-box;margin-bottom: 0.5em;}#sk-container-id-22 div.sk-estimator:hover {background-color: #d4ebff;}#sk-container-id-22 div.sk-parallel-item::after {content: \"\";width: 100%;border-bottom: 1px solid gray;flex-grow: 1;}#sk-container-id-22 div.sk-label:hover label.sk-toggleable__label {background-color: #d4ebff;}#sk-container-id-22 div.sk-serial::before {content: \"\";position: absolute;border-left: 1px solid gray;box-sizing: border-box;top: 0;bottom: 0;left: 50%;z-index: 0;}#sk-container-id-22 div.sk-serial {display: flex;flex-direction: column;align-items: center;background-color: white;padding-right: 0.2em;padding-left: 0.2em;position: relative;}#sk-container-id-22 div.sk-item {position: relative;z-index: 1;}#sk-container-id-22 div.sk-parallel {display: flex;align-items: stretch;justify-content: center;background-color: white;position: relative;}#sk-container-id-22 div.sk-item::before, #sk-container-id-22 div.sk-parallel-item::before {content: \"\";position: absolute;border-left: 1px solid gray;box-sizing: border-box;top: 0;bottom: 0;left: 50%;z-index: -1;}#sk-container-id-22 div.sk-parallel-item {display: flex;flex-direction: column;z-index: 1;position: relative;background-color: white;}#sk-container-id-22 div.sk-parallel-item:first-child::after {align-self: flex-end;width: 50%;}#sk-container-id-22 div.sk-parallel-item:last-child::after {align-self: flex-start;width: 50%;}#sk-container-id-22 div.sk-parallel-item:only-child::after {width: 0;}#sk-container-id-22 div.sk-dashed-wrapped {border: 1px dashed gray;margin: 0 0.4em 0.5em 0.4em;box-sizing: border-box;padding-bottom: 0.4em;background-color: white;}#sk-container-id-22 div.sk-label label {font-family: monospace;font-weight: bold;display: inline-block;line-height: 1.2em;}#sk-container-id-22 div.sk-label-container {text-align: center;}#sk-container-id-22 div.sk-container {/* jupyter's `normalize.less` sets `[hidden] { display: none; }` but bootstrap.min.css set `[hidden] { display: none !important; }` so we also need the `!important` here to be able to override the default hidden behavior on the sphinx rendered scikit-learn.org. See: https://github.com/scikit-learn/scikit-learn/issues/21755 */display: inline-block !important;position: relative;}#sk-container-id-22 div.sk-text-repr-fallback {display: none;}</style><div id=\"sk-container-id-22\" class=\"sk-top-container\"><div class=\"sk-text-repr-fallback\"><pre>GridSearchCV(estimator=RandomForestRegressor(random_state=0),\n",
       "             param_grid={&#x27;max_depth&#x27;: [4, 6, 8, 10],\n",
       "                         &#x27;min_samples_leaf&#x27;: [5, 10, 15, 20],\n",
       "                         &#x27;n_estimators&#x27;: [10, 50, 100, 150, 200]})</pre><b>In a Jupyter environment, please rerun this cell to show the HTML representation or trust the notebook. <br />On GitHub, the HTML representation is unable to render, please try loading this page with nbviewer.org.</b></div><div class=\"sk-container\" hidden><div class=\"sk-item sk-dashed-wrapped\"><div class=\"sk-label-container\"><div class=\"sk-label sk-toggleable\"><input class=\"sk-toggleable__control sk-hidden--visually\" id=\"sk-estimator-id-38\" type=\"checkbox\" ><label for=\"sk-estimator-id-38\" class=\"sk-toggleable__label sk-toggleable__label-arrow\">GridSearchCV</label><div class=\"sk-toggleable__content\"><pre>GridSearchCV(estimator=RandomForestRegressor(random_state=0),\n",
       "             param_grid={&#x27;max_depth&#x27;: [4, 6, 8, 10],\n",
       "                         &#x27;min_samples_leaf&#x27;: [5, 10, 15, 20],\n",
       "                         &#x27;n_estimators&#x27;: [10, 50, 100, 150, 200]})</pre></div></div></div><div class=\"sk-parallel\"><div class=\"sk-parallel-item\"><div class=\"sk-item\"><div class=\"sk-label-container\"><div class=\"sk-label sk-toggleable\"><input class=\"sk-toggleable__control sk-hidden--visually\" id=\"sk-estimator-id-39\" type=\"checkbox\" ><label for=\"sk-estimator-id-39\" class=\"sk-toggleable__label sk-toggleable__label-arrow\">estimator: RandomForestRegressor</label><div class=\"sk-toggleable__content\"><pre>RandomForestRegressor(random_state=0)</pre></div></div></div><div class=\"sk-serial\"><div class=\"sk-item\"><div class=\"sk-estimator sk-toggleable\"><input class=\"sk-toggleable__control sk-hidden--visually\" id=\"sk-estimator-id-40\" type=\"checkbox\" ><label for=\"sk-estimator-id-40\" class=\"sk-toggleable__label sk-toggleable__label-arrow\">RandomForestRegressor</label><div class=\"sk-toggleable__content\"><pre>RandomForestRegressor(random_state=0)</pre></div></div></div></div></div></div></div></div></div></div>"
      ],
      "text/plain": [
       "GridSearchCV(estimator=RandomForestRegressor(random_state=0),\n",
       "             param_grid={'max_depth': [4, 6, 8, 10],\n",
       "                         'min_samples_leaf': [5, 10, 15, 20],\n",
       "                         'n_estimators': [10, 50, 100, 150, 200]})"
      ]
     },
     "execution_count": 1646,
     "metadata": {},
     "output_type": "execute_result"
    }
   ],
   "source": [
    "grid_forest.fit(X_train_sc, y_train)"
   ]
  },
  {
   "cell_type": "code",
   "execution_count": 1648,
   "id": "a60c9be9-4305-42d6-9b7c-45cde196e354",
   "metadata": {
    "tags": []
   },
   "outputs": [
    {
     "data": {
      "text/plain": [
       "{'max_depth': 10, 'min_samples_leaf': 5, 'n_estimators': 200}"
      ]
     },
     "execution_count": 1648,
     "metadata": {},
     "output_type": "execute_result"
    }
   ],
   "source": [
    "grid_forest.best_params_"
   ]
  },
  {
   "cell_type": "code",
   "execution_count": 1650,
   "id": "6c54f1d4-e363-425f-915c-b6e1cc719ce4",
   "metadata": {
    "tags": []
   },
   "outputs": [
    {
     "name": "stdout",
     "output_type": "stream",
     "text": [
      "RANDOM FOREST REGRESSOR (GRID):  \n",
      " RMSE_test =  0.32601636626412617\n",
      "RMSE_train =  0.29949445064825453\n"
     ]
    }
   ],
   "source": [
    "y_pred_rfr_grid = grid_forest.best_estimator_.predict(X_test_sc)\n",
    "rmse_rfr_grid = mean_squared_error(y_test, y_pred_rfr_grid, squared = False)\n",
    "y_pt_rfr_grid = grid_forest.best_estimator_.predict(X_train_sc)\n",
    "rmse_rfr_tr_grid = mean_squared_error(y_train, y_pt_rfr_grid, squared = False)\n",
    "print(\"RANDOM FOREST REGRESSOR (GRID): \", \"\\n\", \"RMSE_test = \", rmse_rfr_grid)\n",
    "print(\"RMSE_train = \", rmse_rfr_tr_grid)"
   ]
  },
  {
   "cell_type": "code",
   "execution_count": 1652,
   "id": "ce2dcdfb-1cea-43e6-983b-b89c92dec285",
   "metadata": {
    "tags": []
   },
   "outputs": [
    {
     "data": {
      "text/plain": [
       "0.29949445064825453"
      ]
     },
     "execution_count": 1652,
     "metadata": {},
     "output_type": "execute_result"
    }
   ],
   "source": [
    "y_pt_rfr_grid = grid_forest.best_estimator_.predict(X_train_sc)\n",
    "rmse_rfr_tr_grid = mean_squared_error(y_train, y_pt_rfr_grid, squared = False)\n",
    "rmse_rfr_tr_grid"
   ]
  },
  {
   "cell_type": "code",
   "execution_count": null,
   "id": "0c3301f6-e60a-4a45-8af8-e5b76da18f27",
   "metadata": {},
   "outputs": [],
   "source": [
    "# h) Selecciona el mejor modelo basándote en la métrica del RMSE\n",
    "\n",
    "# --> el mejor resultado lo ha entregado el Random Forest Regressor tras su optimización del grid search: RMSE = 0.326"
   ]
  },
  {
   "cell_type": "code",
   "execution_count": null,
   "id": "65e230c8-5a0c-4ab4-8773-eebc9089a603",
   "metadata": {},
   "outputs": [],
   "source": []
  },
  {
   "cell_type": "code",
   "execution_count": 1654,
   "id": "3445797f-c69e-4e7c-b77d-b64273ae424a",
   "metadata": {
    "tags": []
   },
   "outputs": [
    {
     "data": {
      "text/html": [
       "<div>\n",
       "<style scoped>\n",
       "    .dataframe tbody tr th:only-of-type {\n",
       "        vertical-align: middle;\n",
       "    }\n",
       "\n",
       "    .dataframe tbody tr th {\n",
       "        vertical-align: top;\n",
       "    }\n",
       "\n",
       "    .dataframe thead th {\n",
       "        text-align: right;\n",
       "    }\n",
       "</style>\n",
       "<table border=\"1\" class=\"dataframe\">\n",
       "  <thead>\n",
       "    <tr style=\"text-align: right;\">\n",
       "      <th></th>\n",
       "      <th>name</th>\n",
       "      <th>online_order</th>\n",
       "      <th>book_table</th>\n",
       "      <th>rate</th>\n",
       "      <th>votes</th>\n",
       "      <th>location</th>\n",
       "      <th>rest_type</th>\n",
       "      <th>cuisines</th>\n",
       "      <th>Cost2plate</th>\n",
       "      <th>Type</th>\n",
       "    </tr>\n",
       "  </thead>\n",
       "  <tbody>\n",
       "    <tr>\n",
       "      <th>72</th>\n",
       "      <td>Spicy Tandoor</td>\n",
       "      <td>No</td>\n",
       "      <td>No</td>\n",
       "      <td>NaN</td>\n",
       "      <td>0</td>\n",
       "      <td>Banashankari</td>\n",
       "      <td>Quick Bites</td>\n",
       "      <td>North Indian</td>\n",
       "      <td>150.0</td>\n",
       "      <td>Delivery</td>\n",
       "    </tr>\n",
       "    <tr>\n",
       "      <th>75</th>\n",
       "      <td>Om Sri Vinayaka Chats</td>\n",
       "      <td>No</td>\n",
       "      <td>No</td>\n",
       "      <td>NaN</td>\n",
       "      <td>0</td>\n",
       "      <td>Banashankari</td>\n",
       "      <td>Takeaway, Delivery</td>\n",
       "      <td>Street Food, Fast Food</td>\n",
       "      <td>500.0</td>\n",
       "      <td>Delivery</td>\n",
       "    </tr>\n",
       "    <tr>\n",
       "      <th>84</th>\n",
       "      <td>Chill Out</td>\n",
       "      <td>No</td>\n",
       "      <td>No</td>\n",
       "      <td>NaN</td>\n",
       "      <td>0</td>\n",
       "      <td>Banashankari</td>\n",
       "      <td>Quick Bites</td>\n",
       "      <td>South Indian, Chinese</td>\n",
       "      <td>100.0</td>\n",
       "      <td>Delivery</td>\n",
       "    </tr>\n",
       "    <tr>\n",
       "      <th>90</th>\n",
       "      <td>Me And My Cake</td>\n",
       "      <td>No</td>\n",
       "      <td>No</td>\n",
       "      <td>NaN</td>\n",
       "      <td>0</td>\n",
       "      <td>Banashankari</td>\n",
       "      <td>Delivery</td>\n",
       "      <td>Bakery, Desserts</td>\n",
       "      <td>500.0</td>\n",
       "      <td>Delivery</td>\n",
       "    </tr>\n",
       "    <tr>\n",
       "      <th>91</th>\n",
       "      <td>Sunsadm</td>\n",
       "      <td>No</td>\n",
       "      <td>No</td>\n",
       "      <td>NaN</td>\n",
       "      <td>0</td>\n",
       "      <td>Banashankari</td>\n",
       "      <td>Takeaway, Delivery</td>\n",
       "      <td>South Indian</td>\n",
       "      <td>400.0</td>\n",
       "      <td>Delivery</td>\n",
       "    </tr>\n",
       "  </tbody>\n",
       "</table>\n",
       "</div>"
      ],
      "text/plain": [
       "                     name online_order book_table  rate  votes      location  \\\n",
       "72          Spicy Tandoor           No         No   NaN      0  Banashankari   \n",
       "75  Om Sri Vinayaka Chats           No         No   NaN      0  Banashankari   \n",
       "84              Chill Out           No         No   NaN      0  Banashankari   \n",
       "90         Me And My Cake           No         No   NaN      0  Banashankari   \n",
       "91                Sunsadm           No         No   NaN      0  Banashankari   \n",
       "\n",
       "             rest_type                cuisines  Cost2plate      Type  \n",
       "72         Quick Bites            North Indian       150.0  Delivery  \n",
       "75  Takeaway, Delivery  Street Food, Fast Food       500.0  Delivery  \n",
       "84         Quick Bites   South Indian, Chinese       100.0  Delivery  \n",
       "90            Delivery        Bakery, Desserts       500.0  Delivery  \n",
       "91  Takeaway, Delivery            South Indian       400.0  Delivery  "
      ]
     },
     "execution_count": 1654,
     "metadata": {},
     "output_type": "execute_result"
    }
   ],
   "source": [
    "# Ahora podemos predecir las valoraciones faltantes del DS original:\n",
    "\n",
    "rest_nan.head()"
   ]
  },
  {
   "cell_type": "code",
   "execution_count": 1656,
   "id": "b99375ca-097a-4a4a-9bae-264e24450936",
   "metadata": {
    "tags": []
   },
   "outputs": [
    {
     "data": {
      "text/plain": [
       "20362"
      ]
     },
     "execution_count": 1656,
     "metadata": {},
     "output_type": "execute_result"
    }
   ],
   "source": [
    "rest_nan.votes.sum() # verificamos que la variable votes no esté toda en ceros."
   ]
  },
  {
   "cell_type": "code",
   "execution_count": 1658,
   "id": "b50743d7-0ac3-4db8-975b-c3af346f369d",
   "metadata": {
    "tags": []
   },
   "outputs": [],
   "source": [
    "# Quitamos posibles duplicados según el mismo criterio del cálculo anterior:\n",
    "\n",
    "rest_nan_nd = rest_nan.drop_duplicates(subset=['name', 'location', 'rest_type', 'votes'])"
   ]
  },
  {
   "cell_type": "code",
   "execution_count": 1660,
   "id": "bffe334e-de31-4a70-b25a-e274c7877b22",
   "metadata": {
    "tags": []
   },
   "outputs": [
    {
     "name": "stdout",
     "output_type": "stream",
     "text": [
      "rest_nan: (10052, 10)\n",
      "rest_nan_nd: (3262, 10)\n"
     ]
    }
   ],
   "source": [
    "print(\"rest_nan:\", rest_nan.shape)\n",
    "print(\"rest_nan_nd:\", rest_nan_nd.shape)\n",
    "\n",
    "# Bajamos de 10K a 3K entradas:"
   ]
  },
  {
   "cell_type": "code",
   "execution_count": 1662,
   "id": "04f1e7d9-4c0a-4a98-80db-5bdda0345d39",
   "metadata": {
    "tags": []
   },
   "outputs": [],
   "source": [
    "# Discretizamos variables de interés: online_order, y book_table\n",
    "\n",
    "rest_nan_nd_oh = pd.get_dummies(rest_nan_nd, columns=['online_order','book_table'], drop_first=True)"
   ]
  },
  {
   "cell_type": "code",
   "execution_count": 1664,
   "id": "70725421-a136-4614-b7e9-a59eee71b32b",
   "metadata": {
    "tags": []
   },
   "outputs": [
    {
     "data": {
      "text/html": [
       "<div>\n",
       "<style scoped>\n",
       "    .dataframe tbody tr th:only-of-type {\n",
       "        vertical-align: middle;\n",
       "    }\n",
       "\n",
       "    .dataframe tbody tr th {\n",
       "        vertical-align: top;\n",
       "    }\n",
       "\n",
       "    .dataframe thead th {\n",
       "        text-align: right;\n",
       "    }\n",
       "</style>\n",
       "<table border=\"1\" class=\"dataframe\">\n",
       "  <thead>\n",
       "    <tr style=\"text-align: right;\">\n",
       "      <th></th>\n",
       "      <th>name</th>\n",
       "      <th>rate</th>\n",
       "      <th>votes</th>\n",
       "      <th>location</th>\n",
       "      <th>rest_type</th>\n",
       "      <th>cuisines</th>\n",
       "      <th>Cost2plate</th>\n",
       "      <th>Type</th>\n",
       "      <th>online_order_Yes</th>\n",
       "      <th>book_table_Yes</th>\n",
       "    </tr>\n",
       "  </thead>\n",
       "  <tbody>\n",
       "    <tr>\n",
       "      <th>72</th>\n",
       "      <td>Spicy Tandoor</td>\n",
       "      <td>NaN</td>\n",
       "      <td>0</td>\n",
       "      <td>Banashankari</td>\n",
       "      <td>Quick Bites</td>\n",
       "      <td>North Indian</td>\n",
       "      <td>150.0</td>\n",
       "      <td>Delivery</td>\n",
       "      <td>False</td>\n",
       "      <td>False</td>\n",
       "    </tr>\n",
       "    <tr>\n",
       "      <th>75</th>\n",
       "      <td>Om Sri Vinayaka Chats</td>\n",
       "      <td>NaN</td>\n",
       "      <td>0</td>\n",
       "      <td>Banashankari</td>\n",
       "      <td>Takeaway, Delivery</td>\n",
       "      <td>Street Food, Fast Food</td>\n",
       "      <td>500.0</td>\n",
       "      <td>Delivery</td>\n",
       "      <td>False</td>\n",
       "      <td>False</td>\n",
       "    </tr>\n",
       "    <tr>\n",
       "      <th>84</th>\n",
       "      <td>Chill Out</td>\n",
       "      <td>NaN</td>\n",
       "      <td>0</td>\n",
       "      <td>Banashankari</td>\n",
       "      <td>Quick Bites</td>\n",
       "      <td>South Indian, Chinese</td>\n",
       "      <td>100.0</td>\n",
       "      <td>Delivery</td>\n",
       "      <td>False</td>\n",
       "      <td>False</td>\n",
       "    </tr>\n",
       "    <tr>\n",
       "      <th>90</th>\n",
       "      <td>Me And My Cake</td>\n",
       "      <td>NaN</td>\n",
       "      <td>0</td>\n",
       "      <td>Banashankari</td>\n",
       "      <td>Delivery</td>\n",
       "      <td>Bakery, Desserts</td>\n",
       "      <td>500.0</td>\n",
       "      <td>Delivery</td>\n",
       "      <td>False</td>\n",
       "      <td>False</td>\n",
       "    </tr>\n",
       "    <tr>\n",
       "      <th>91</th>\n",
       "      <td>Sunsadm</td>\n",
       "      <td>NaN</td>\n",
       "      <td>0</td>\n",
       "      <td>Banashankari</td>\n",
       "      <td>Takeaway, Delivery</td>\n",
       "      <td>South Indian</td>\n",
       "      <td>400.0</td>\n",
       "      <td>Delivery</td>\n",
       "      <td>False</td>\n",
       "      <td>False</td>\n",
       "    </tr>\n",
       "  </tbody>\n",
       "</table>\n",
       "</div>"
      ],
      "text/plain": [
       "                     name  rate  votes      location           rest_type  \\\n",
       "72          Spicy Tandoor   NaN      0  Banashankari         Quick Bites   \n",
       "75  Om Sri Vinayaka Chats   NaN      0  Banashankari  Takeaway, Delivery   \n",
       "84              Chill Out   NaN      0  Banashankari         Quick Bites   \n",
       "90         Me And My Cake   NaN      0  Banashankari            Delivery   \n",
       "91                Sunsadm   NaN      0  Banashankari  Takeaway, Delivery   \n",
       "\n",
       "                  cuisines  Cost2plate      Type  online_order_Yes  \\\n",
       "72            North Indian       150.0  Delivery             False   \n",
       "75  Street Food, Fast Food       500.0  Delivery             False   \n",
       "84   South Indian, Chinese       100.0  Delivery             False   \n",
       "90        Bakery, Desserts       500.0  Delivery             False   \n",
       "91            South Indian       400.0  Delivery             False   \n",
       "\n",
       "    book_table_Yes  \n",
       "72           False  \n",
       "75           False  \n",
       "84           False  \n",
       "90           False  \n",
       "91           False  "
      ]
     },
     "execution_count": 1664,
     "metadata": {},
     "output_type": "execute_result"
    }
   ],
   "source": [
    "rest_nan_nd_oh.head()"
   ]
  },
  {
   "cell_type": "code",
   "execution_count": 1666,
   "id": "ca8fd568-ab9c-4914-9c37-b2f539f30750",
   "metadata": {
    "tags": []
   },
   "outputs": [],
   "source": [
    "# Definición de nueva X2:\n",
    "\n",
    "X2 = rest_nan_nd_oh[[\"votes\", \"Cost2plate\", \"online_order_Yes\", \"book_table_Yes\"]]"
   ]
  },
  {
   "cell_type": "code",
   "execution_count": 1668,
   "id": "fb427f94-a13c-407a-8995-0cfa1e8c6e21",
   "metadata": {
    "tags": []
   },
   "outputs": [],
   "source": [
    "# Escalado de la variable X2:\n",
    "\n",
    "X2_sc = sc_x.fit_transform(X2)"
   ]
  },
  {
   "cell_type": "code",
   "execution_count": 1670,
   "id": "bcb9b7ad-2c6b-4c51-b40f-e8d787e98154",
   "metadata": {
    "tags": []
   },
   "outputs": [],
   "source": [
    "# Cálculo de nueva variable objetivo y2:\n",
    "\n",
    "y2 = grid_forest.best_estimator_.predict(X2_sc)"
   ]
  },
  {
   "cell_type": "code",
   "execution_count": 1672,
   "id": "93d29662-1ba1-4291-98aa-c21817000325",
   "metadata": {
    "tags": []
   },
   "outputs": [],
   "source": [
    "# Integramos el resultado al DS:\n",
    "\n",
    "rest_nan_nd_oh[\"rate\"] = y2.round(1)"
   ]
  },
  {
   "cell_type": "code",
   "execution_count": 1674,
   "id": "9d9a7376-2478-4b86-9767-d776b4583a83",
   "metadata": {
    "tags": []
   },
   "outputs": [
    {
     "data": {
      "text/html": [
       "<div>\n",
       "<style scoped>\n",
       "    .dataframe tbody tr th:only-of-type {\n",
       "        vertical-align: middle;\n",
       "    }\n",
       "\n",
       "    .dataframe tbody tr th {\n",
       "        vertical-align: top;\n",
       "    }\n",
       "\n",
       "    .dataframe thead th {\n",
       "        text-align: right;\n",
       "    }\n",
       "</style>\n",
       "<table border=\"1\" class=\"dataframe\">\n",
       "  <thead>\n",
       "    <tr style=\"text-align: right;\">\n",
       "      <th></th>\n",
       "      <th>name</th>\n",
       "      <th>rate</th>\n",
       "      <th>votes</th>\n",
       "      <th>location</th>\n",
       "      <th>rest_type</th>\n",
       "      <th>cuisines</th>\n",
       "      <th>Cost2plate</th>\n",
       "      <th>Type</th>\n",
       "      <th>online_order_Yes</th>\n",
       "      <th>book_table_Yes</th>\n",
       "    </tr>\n",
       "  </thead>\n",
       "  <tbody>\n",
       "    <tr>\n",
       "      <th>72</th>\n",
       "      <td>Spicy Tandoor</td>\n",
       "      <td>4.2</td>\n",
       "      <td>0</td>\n",
       "      <td>Banashankari</td>\n",
       "      <td>Quick Bites</td>\n",
       "      <td>North Indian</td>\n",
       "      <td>150.0</td>\n",
       "      <td>Delivery</td>\n",
       "      <td>False</td>\n",
       "      <td>False</td>\n",
       "    </tr>\n",
       "    <tr>\n",
       "      <th>75</th>\n",
       "      <td>Om Sri Vinayaka Chats</td>\n",
       "      <td>3.7</td>\n",
       "      <td>0</td>\n",
       "      <td>Banashankari</td>\n",
       "      <td>Takeaway, Delivery</td>\n",
       "      <td>Street Food, Fast Food</td>\n",
       "      <td>500.0</td>\n",
       "      <td>Delivery</td>\n",
       "      <td>False</td>\n",
       "      <td>False</td>\n",
       "    </tr>\n",
       "    <tr>\n",
       "      <th>84</th>\n",
       "      <td>Chill Out</td>\n",
       "      <td>4.2</td>\n",
       "      <td>0</td>\n",
       "      <td>Banashankari</td>\n",
       "      <td>Quick Bites</td>\n",
       "      <td>South Indian, Chinese</td>\n",
       "      <td>100.0</td>\n",
       "      <td>Delivery</td>\n",
       "      <td>False</td>\n",
       "      <td>False</td>\n",
       "    </tr>\n",
       "    <tr>\n",
       "      <th>90</th>\n",
       "      <td>Me And My Cake</td>\n",
       "      <td>3.7</td>\n",
       "      <td>0</td>\n",
       "      <td>Banashankari</td>\n",
       "      <td>Delivery</td>\n",
       "      <td>Bakery, Desserts</td>\n",
       "      <td>500.0</td>\n",
       "      <td>Delivery</td>\n",
       "      <td>False</td>\n",
       "      <td>False</td>\n",
       "    </tr>\n",
       "    <tr>\n",
       "      <th>91</th>\n",
       "      <td>Sunsadm</td>\n",
       "      <td>3.9</td>\n",
       "      <td>0</td>\n",
       "      <td>Banashankari</td>\n",
       "      <td>Takeaway, Delivery</td>\n",
       "      <td>South Indian</td>\n",
       "      <td>400.0</td>\n",
       "      <td>Delivery</td>\n",
       "      <td>False</td>\n",
       "      <td>False</td>\n",
       "    </tr>\n",
       "  </tbody>\n",
       "</table>\n",
       "</div>"
      ],
      "text/plain": [
       "                     name  rate  votes      location           rest_type  \\\n",
       "72          Spicy Tandoor   4.2      0  Banashankari         Quick Bites   \n",
       "75  Om Sri Vinayaka Chats   3.7      0  Banashankari  Takeaway, Delivery   \n",
       "84              Chill Out   4.2      0  Banashankari         Quick Bites   \n",
       "90         Me And My Cake   3.7      0  Banashankari            Delivery   \n",
       "91                Sunsadm   3.9      0  Banashankari  Takeaway, Delivery   \n",
       "\n",
       "                  cuisines  Cost2plate      Type  online_order_Yes  \\\n",
       "72            North Indian       150.0  Delivery             False   \n",
       "75  Street Food, Fast Food       500.0  Delivery             False   \n",
       "84   South Indian, Chinese       100.0  Delivery             False   \n",
       "90        Bakery, Desserts       500.0  Delivery             False   \n",
       "91            South Indian       400.0  Delivery             False   \n",
       "\n",
       "    book_table_Yes  \n",
       "72           False  \n",
       "75           False  \n",
       "84           False  \n",
       "90           False  \n",
       "91           False  "
      ]
     },
     "execution_count": 1674,
     "metadata": {},
     "output_type": "execute_result"
    }
   ],
   "source": [
    "rest_nan_nd_oh.head()"
   ]
  },
  {
   "cell_type": "code",
   "execution_count": 1676,
   "id": "2a348b1a-2191-4c21-8719-fd6a6ff9c690",
   "metadata": {
    "tags": []
   },
   "outputs": [
    {
     "data": {
      "text/plain": [
       "<Axes: xlabel='rate', ylabel='Count'>"
      ]
     },
     "execution_count": 1676,
     "metadata": {},
     "output_type": "execute_result"
    },
    {
     "data": {
      "image/png": "[encoded data removed]",
      "text/plain": [
       "<Figure size 1400x500 with 1 Axes>"
      ]
     },
     "metadata": {},
     "output_type": "display_data"
    }
   ],
   "source": [
    "# Visualización de la predicción completa:\n",
    "\n",
    "sns.histplot(rest_nan_nd_oh[\"rate\"], kde=True)"
   ]
  },
  {
   "cell_type": "code",
   "execution_count": 1678,
   "id": "5d7135af-3974-4692-92ab-21e52beae14a",
   "metadata": {
    "tags": []
   },
   "outputs": [
    {
     "data": {
      "text/plain": [
       "<Axes: xlabel='rate', ylabel='Count'>"
      ]
     },
     "execution_count": 1678,
     "metadata": {},
     "output_type": "execute_result"
    },
    {
     "data": {
      "image/png": "[encoded data removed]",
      "text/plain": [
       "<Figure size 1400x500 with 1 Axes>"
      ]
     },
     "metadata": {},
     "output_type": "display_data"
    }
   ],
   "source": [
    "# Comparativa con el DS anterior de entrenamiento:\n",
    "\n",
    "sns.histplot(rest_full_oh[\"rate\"], kde=True)"
   ]
  },
  {
   "cell_type": "code",
   "execution_count": null,
   "id": "8fbae84b-d791-46fa-980a-d32d187e9b3c",
   "metadata": {},
   "outputs": [],
   "source": [
    "# Hacemos una comparativa de los dos DS a unificar:"
   ]
  },
  {
   "cell_type": "code",
   "execution_count": 1680,
   "id": "36d665fe-6958-459e-b502-d445510d913f",
   "metadata": {
    "tags": []
   },
   "outputs": [
    {
     "data": {
      "text/plain": [
       "(3262, 10)"
      ]
     },
     "execution_count": 1680,
     "metadata": {},
     "output_type": "execute_result"
    }
   ],
   "source": [
    "rest_nan_nd_oh.shape"
   ]
  },
  {
   "cell_type": "code",
   "execution_count": 1682,
   "id": "5984cce4-2c92-4ab8-a7a4-125ab07776dd",
   "metadata": {
    "tags": []
   },
   "outputs": [
    {
     "data": {
      "text/plain": [
       "(16318, 15)"
      ]
     },
     "execution_count": 1682,
     "metadata": {},
     "output_type": "execute_result"
    }
   ],
   "source": [
    "rest_full_oh.shape"
   ]
  },
  {
   "cell_type": "code",
   "execution_count": 1684,
   "id": "bb372ccf-de27-4045-a4f4-ca7834115352",
   "metadata": {
    "tags": []
   },
   "outputs": [
    {
     "data": {
      "text/plain": [
       "Index(['name', 'rate', 'votes', 'location', 'rest_type', 'cuisines',\n",
       "       'Cost2plate', 'online_order_Yes', 'book_table_Yes', 'Type_Cafes',\n",
       "       'Type_Delivery', 'Type_Desserts', 'Type_Dine-out',\n",
       "       'Type_Drinks & nightlife', 'Type_Pubs and bars'],\n",
       "      dtype='object')"
      ]
     },
     "execution_count": 1684,
     "metadata": {},
     "output_type": "execute_result"
    }
   ],
   "source": [
    "rest_full_oh.columns"
   ]
  },
  {
   "cell_type": "code",
   "execution_count": 1686,
   "id": "bf4171da-b47f-45b7-a31b-40f3d119407f",
   "metadata": {
    "tags": []
   },
   "outputs": [
    {
     "data": {
      "text/plain": [
       "Index(['name', 'rate', 'votes', 'location', 'rest_type', 'cuisines',\n",
       "       'Cost2plate', 'Type', 'online_order_Yes', 'book_table_Yes'],\n",
       "      dtype='object')"
      ]
     },
     "execution_count": 1686,
     "metadata": {},
     "output_type": "execute_result"
    }
   ],
   "source": [
    "rest_nan_nd_oh.columns"
   ]
  },
  {
   "cell_type": "code",
   "execution_count": null,
   "id": "9b3b22ed-1056-45c9-a3a0-d8052cd6d115",
   "metadata": {},
   "outputs": [],
   "source": [
    "# Selección de las mismas variables de interés en ambos DS:"
   ]
  },
  {
   "cell_type": "code",
   "execution_count": 1688,
   "id": "9099f419-1a9b-4855-955b-f6793316fe5e",
   "metadata": {
    "tags": []
   },
   "outputs": [
    {
     "data": {
      "text/plain": [
       "(16318, 9)"
      ]
     },
     "execution_count": 1688,
     "metadata": {},
     "output_type": "execute_result"
    }
   ],
   "source": [
    "rest_full_oh_m = rest_full_oh[['name', 'rate', 'votes', 'location', 'rest_type', 'cuisines', 'Cost2plate', 'online_order_Yes', 'book_table_Yes']]\n",
    "rest_full_oh_m.shape"
   ]
  },
  {
   "cell_type": "code",
   "execution_count": 1690,
   "id": "2c368502-daf6-4a0c-bad1-7c4f63a208ee",
   "metadata": {
    "tags": []
   },
   "outputs": [
    {
     "data": {
      "text/plain": [
       "(3262, 9)"
      ]
     },
     "execution_count": 1690,
     "metadata": {},
     "output_type": "execute_result"
    }
   ],
   "source": [
    "rest_nan_nd_oh_m = rest_nan_nd_oh[['name', 'rate', 'votes', 'location', 'rest_type', 'cuisines', 'Cost2plate', 'online_order_Yes', 'book_table_Yes']]\n",
    "rest_nan_nd_oh_m.shape"
   ]
  },
  {
   "cell_type": "code",
   "execution_count": 1692,
   "id": "12e9ac7d-8d9c-4682-9462-a26a4719719b",
   "metadata": {
    "tags": []
   },
   "outputs": [],
   "source": [
    "# Merge:\n",
    "\n",
    "rest_merged = pd.merge(rest_full_oh_m, rest_nan_nd_oh_m, on=['name', 'rate', 'votes', 'location', 'rest_type', 'cuisines', 'Cost2plate', 'online_order_Yes', 'book_table_Yes'], how='outer')"
   ]
  },
  {
   "cell_type": "code",
   "execution_count": 1694,
   "id": "89917e92-36ad-4098-9a1c-f4873b8d990a",
   "metadata": {
    "tags": []
   },
   "outputs": [
    {
     "data": {
      "text/html": [
       "<div>\n",
       "<style scoped>\n",
       "    .dataframe tbody tr th:only-of-type {\n",
       "        vertical-align: middle;\n",
       "    }\n",
       "\n",
       "    .dataframe tbody tr th {\n",
       "        vertical-align: top;\n",
       "    }\n",
       "\n",
       "    .dataframe thead th {\n",
       "        text-align: right;\n",
       "    }\n",
       "</style>\n",
       "<table border=\"1\" class=\"dataframe\">\n",
       "  <thead>\n",
       "    <tr style=\"text-align: right;\">\n",
       "      <th></th>\n",
       "      <th>name</th>\n",
       "      <th>rate</th>\n",
       "      <th>votes</th>\n",
       "      <th>location</th>\n",
       "      <th>rest_type</th>\n",
       "      <th>cuisines</th>\n",
       "      <th>Cost2plate</th>\n",
       "      <th>online_order_Yes</th>\n",
       "      <th>book_table_Yes</th>\n",
       "    </tr>\n",
       "  </thead>\n",
       "  <tbody>\n",
       "    <tr>\n",
       "      <th>0</th>\n",
       "      <td>Jalsa</td>\n",
       "      <td>4.1</td>\n",
       "      <td>775</td>\n",
       "      <td>Banashankari</td>\n",
       "      <td>Casual Dining</td>\n",
       "      <td>North Indian, Mughlai, Chinese</td>\n",
       "      <td>800.0</td>\n",
       "      <td>True</td>\n",
       "      <td>True</td>\n",
       "    </tr>\n",
       "    <tr>\n",
       "      <th>1</th>\n",
       "      <td>Spice Elephant</td>\n",
       "      <td>4.1</td>\n",
       "      <td>787</td>\n",
       "      <td>Banashankari</td>\n",
       "      <td>Casual Dining</td>\n",
       "      <td>Chinese, North Indian, Thai</td>\n",
       "      <td>800.0</td>\n",
       "      <td>True</td>\n",
       "      <td>False</td>\n",
       "    </tr>\n",
       "    <tr>\n",
       "      <th>2</th>\n",
       "      <td>San Churro Cafe</td>\n",
       "      <td>3.8</td>\n",
       "      <td>918</td>\n",
       "      <td>Banashankari</td>\n",
       "      <td>Cafe, Casual Dining</td>\n",
       "      <td>Cafe, Mexican, Italian</td>\n",
       "      <td>800.0</td>\n",
       "      <td>True</td>\n",
       "      <td>False</td>\n",
       "    </tr>\n",
       "    <tr>\n",
       "      <th>3</th>\n",
       "      <td>Addhuri Udupi Bhojana</td>\n",
       "      <td>3.7</td>\n",
       "      <td>88</td>\n",
       "      <td>Banashankari</td>\n",
       "      <td>Quick Bites</td>\n",
       "      <td>South Indian, North Indian</td>\n",
       "      <td>300.0</td>\n",
       "      <td>False</td>\n",
       "      <td>False</td>\n",
       "    </tr>\n",
       "    <tr>\n",
       "      <th>4</th>\n",
       "      <td>Grand Village</td>\n",
       "      <td>3.8</td>\n",
       "      <td>166</td>\n",
       "      <td>Basavanagudi</td>\n",
       "      <td>Casual Dining</td>\n",
       "      <td>North Indian, Rajasthani</td>\n",
       "      <td>600.0</td>\n",
       "      <td>False</td>\n",
       "      <td>False</td>\n",
       "    </tr>\n",
       "  </tbody>\n",
       "</table>\n",
       "</div>"
      ],
      "text/plain": [
       "                    name  rate  votes      location            rest_type  \\\n",
       "0                  Jalsa   4.1    775  Banashankari        Casual Dining   \n",
       "1         Spice Elephant   4.1    787  Banashankari        Casual Dining   \n",
       "2        San Churro Cafe   3.8    918  Banashankari  Cafe, Casual Dining   \n",
       "3  Addhuri Udupi Bhojana   3.7     88  Banashankari          Quick Bites   \n",
       "4          Grand Village   3.8    166  Basavanagudi        Casual Dining   \n",
       "\n",
       "                         cuisines  Cost2plate  online_order_Yes  \\\n",
       "0  North Indian, Mughlai, Chinese       800.0              True   \n",
       "1     Chinese, North Indian, Thai       800.0              True   \n",
       "2          Cafe, Mexican, Italian       800.0              True   \n",
       "3      South Indian, North Indian       300.0             False   \n",
       "4        North Indian, Rajasthani       600.0             False   \n",
       "\n",
       "   book_table_Yes  \n",
       "0            True  \n",
       "1           False  \n",
       "2           False  \n",
       "3           False  \n",
       "4           False  "
      ]
     },
     "execution_count": 1694,
     "metadata": {},
     "output_type": "execute_result"
    }
   ],
   "source": [
    "rest_merged.head()"
   ]
  },
  {
   "cell_type": "code",
   "execution_count": 1696,
   "id": "a32aae8a-6cb8-4629-9595-5db9b106f368",
   "metadata": {
    "tags": []
   },
   "outputs": [
    {
     "data": {
      "text/plain": [
       "(19579, 9)"
      ]
     },
     "execution_count": 1696,
     "metadata": {},
     "output_type": "execute_result"
    }
   ],
   "source": [
    "rest_merged.shape"
   ]
  },
  {
   "cell_type": "code",
   "execution_count": 1698,
   "id": "5c384ecd-81c7-4cb0-93d8-b66399a44349",
   "metadata": {
    "tags": []
   },
   "outputs": [
    {
     "data": {
      "text/plain": [
       "19580"
      ]
     },
     "execution_count": 1698,
     "metadata": {},
     "output_type": "execute_result"
    }
   ],
   "source": [
    "# Verificación de entradas tras el merge de los DS:\n",
    "\n",
    "len(rest_full_oh_m) + len(rest_nan_nd_oh_m)"
   ]
  },
  {
   "cell_type": "code",
   "execution_count": 1700,
   "id": "e23fc17a-1bf1-4c68-8762-0938c8b8ae55",
   "metadata": {
    "tags": []
   },
   "outputs": [
    {
     "data": {
      "text/plain": [
       "name                0\n",
       "rate                0\n",
       "votes               0\n",
       "location            0\n",
       "rest_type           0\n",
       "cuisines            0\n",
       "Cost2plate          0\n",
       "online_order_Yes    0\n",
       "book_table_Yes      0\n",
       "dtype: int64"
      ]
     },
     "execution_count": 1700,
     "metadata": {},
     "output_type": "execute_result"
    }
   ],
   "source": [
    "# Chequeo de valores nulos tras el merge:\n",
    "\n",
    "rest_merged.isna().sum()"
   ]
  },
  {
   "cell_type": "code",
   "execution_count": 1702,
   "id": "b5a38b1c-34a4-407e-805e-bf672248d0a2",
   "metadata": {
    "tags": []
   },
   "outputs": [],
   "source": [
    "# Reevaluación del modelo con el DS unificado:\n",
    "\n",
    "X3 = rest_merged[['votes', 'Cost2plate', 'online_order_Yes', 'book_table_Yes']]\n",
    "y3 = rest_merged.rate"
   ]
  },
  {
   "cell_type": "code",
   "execution_count": 1704,
   "id": "235a9fbc-4d59-4311-8d86-786a64e2b3f1",
   "metadata": {
    "tags": []
   },
   "outputs": [],
   "source": [
    "# Separamos datos de train y de test::\n",
    "\n",
    "X3_train, X3_test, y3_train, y3_test = train_test_split(X3, y3, test_size = 0.2, random_state = 0)"
   ]
  },
  {
   "cell_type": "code",
   "execution_count": 1706,
   "id": "e5be9477-acb7-42a6-9ba7-402cdc67eac5",
   "metadata": {
    "tags": []
   },
   "outputs": [],
   "source": [
    "# Escalado de variables de entrenamiento:\n",
    "\n",
    "X3_train_sc = sc_x.fit_transform(X3_train)\n",
    "X3_test_sc = sc_x.transform(X3_test)"
   ]
  },
  {
   "cell_type": "code",
   "execution_count": 1708,
   "id": "e3308f94-a322-450a-ade9-e62c41f77355",
   "metadata": {
    "tags": []
   },
   "outputs": [],
   "source": [
    "# RANDOM FOREST REGRESSOR con valores por defecto:\n",
    "\n",
    "rfr = RandomForestRegressor(random_state = 0)\n",
    "rfr.fit(X3_train_sc, y3_train)\n",
    "y3_pred_rfr = rfr.predict(X3_test_sc)\n",
    "y3_pt_rfr = rfr.predict(X3_train_sc)"
   ]
  },
  {
   "cell_type": "code",
   "execution_count": 1710,
   "id": "c00a5c16-f574-426c-8031-2494e62ee8f5",
   "metadata": {
    "tags": []
   },
   "outputs": [
    {
     "name": "stdout",
     "output_type": "stream",
     "text": [
      "RANDOM FOREST REGRESSOR:  \n",
      " RMSE_test =  0.3116772224186654\n",
      "RMSE_train =  0.19597145751429576\n"
     ]
    }
   ],
   "source": [
    "rmse3_rfr = mean_squared_error(y3_test, y3_pred_rfr, squared = False)\n",
    "rmse3_tr_rfr = mean_squared_error(y3_train, y3_pt_rfr, squared = False)\n",
    "print(\"RANDOM FOREST REGRESSOR: \", \"\\n\", \"RMSE_test = \", rmse3_rfr)\n",
    "print(\"RMSE_train = \", rmse3_tr_rfr)"
   ]
  },
  {
   "cell_type": "code",
   "execution_count": 1712,
   "id": "2cb9f473-0be4-41b8-a062-75a3e5f39b7d",
   "metadata": {
    "tags": []
   },
   "outputs": [
    {
     "data": {
      "text/html": [
       "<style>#sk-container-id-23 {color: black;background-color: white;}#sk-container-id-23 pre{padding: 0;}#sk-container-id-23 div.sk-toggleable {background-color: white;}#sk-container-id-23 label.sk-toggleable__label {cursor: pointer;display: block;width: 100%;margin-bottom: 0;padding: 0.3em;box-sizing: border-box;text-align: center;}#sk-container-id-23 label.sk-toggleable__label-arrow:before {content: \"▸\";float: left;margin-right: 0.25em;color: #696969;}#sk-container-id-23 label.sk-toggleable__label-arrow:hover:before {color: black;}#sk-container-id-23 div.sk-estimator:hover label.sk-toggleable__label-arrow:before {color: black;}#sk-container-id-23 div.sk-toggleable__content {max-height: 0;max-width: 0;overflow: hidden;text-align: left;background-color: #f0f8ff;}#sk-container-id-23 div.sk-toggleable__content pre {margin: 0.2em;color: black;border-radius: 0.25em;background-color: #f0f8ff;}#sk-container-id-23 input.sk-toggleable__control:checked~div.sk-toggleable__content {max-height: 200px;max-width: 100%;overflow: auto;}#sk-container-id-23 input.sk-toggleable__control:checked~label.sk-toggleable__label-arrow:before {content: \"▾\";}#sk-container-id-23 div.sk-estimator input.sk-toggleable__control:checked~label.sk-toggleable__label {background-color: #d4ebff;}#sk-container-id-23 div.sk-label input.sk-toggleable__control:checked~label.sk-toggleable__label {background-color: #d4ebff;}#sk-container-id-23 input.sk-hidden--visually {border: 0;clip: rect(1px 1px 1px 1px);clip: rect(1px, 1px, 1px, 1px);height: 1px;margin: -1px;overflow: hidden;padding: 0;position: absolute;width: 1px;}#sk-container-id-23 div.sk-estimator {font-family: monospace;background-color: #f0f8ff;border: 1px dotted black;border-radius: 0.25em;box-sizing: border-box;margin-bottom: 0.5em;}#sk-container-id-23 div.sk-estimator:hover {background-color: #d4ebff;}#sk-container-id-23 div.sk-parallel-item::after {content: \"\";width: 100%;border-bottom: 1px solid gray;flex-grow: 1;}#sk-container-id-23 div.sk-label:hover label.sk-toggleable__label {background-color: #d4ebff;}#sk-container-id-23 div.sk-serial::before {content: \"\";position: absolute;border-left: 1px solid gray;box-sizing: border-box;top: 0;bottom: 0;left: 50%;z-index: 0;}#sk-container-id-23 div.sk-serial {display: flex;flex-direction: column;align-items: center;background-color: white;padding-right: 0.2em;padding-left: 0.2em;position: relative;}#sk-container-id-23 div.sk-item {position: relative;z-index: 1;}#sk-container-id-23 div.sk-parallel {display: flex;align-items: stretch;justify-content: center;background-color: white;position: relative;}#sk-container-id-23 div.sk-item::before, #sk-container-id-23 div.sk-parallel-item::before {content: \"\";position: absolute;border-left: 1px solid gray;box-sizing: border-box;top: 0;bottom: 0;left: 50%;z-index: -1;}#sk-container-id-23 div.sk-parallel-item {display: flex;flex-direction: column;z-index: 1;position: relative;background-color: white;}#sk-container-id-23 div.sk-parallel-item:first-child::after {align-self: flex-end;width: 50%;}#sk-container-id-23 div.sk-parallel-item:last-child::after {align-self: flex-start;width: 50%;}#sk-container-id-23 div.sk-parallel-item:only-child::after {width: 0;}#sk-container-id-23 div.sk-dashed-wrapped {border: 1px dashed gray;margin: 0 0.4em 0.5em 0.4em;box-sizing: border-box;padding-bottom: 0.4em;background-color: white;}#sk-container-id-23 div.sk-label label {font-family: monospace;font-weight: bold;display: inline-block;line-height: 1.2em;}#sk-container-id-23 div.sk-label-container {text-align: center;}#sk-container-id-23 div.sk-container {/* jupyter's `normalize.less` sets `[hidden] { display: none; }` but bootstrap.min.css set `[hidden] { display: none !important; }` so we also need the `!important` here to be able to override the default hidden behavior on the sphinx rendered scikit-learn.org. See: https://github.com/scikit-learn/scikit-learn/issues/21755 */display: inline-block !important;position: relative;}#sk-container-id-23 div.sk-text-repr-fallback {display: none;}</style><div id=\"sk-container-id-23\" class=\"sk-top-container\"><div class=\"sk-text-repr-fallback\"><pre>GridSearchCV(estimator=RandomForestRegressor(random_state=0),\n",
       "             param_grid={&#x27;max_depth&#x27;: [4, 6, 8, 10],\n",
       "                         &#x27;min_samples_leaf&#x27;: [5, 10, 15, 20],\n",
       "                         &#x27;n_estimators&#x27;: [10, 50, 100, 150, 200]})</pre><b>In a Jupyter environment, please rerun this cell to show the HTML representation or trust the notebook. <br />On GitHub, the HTML representation is unable to render, please try loading this page with nbviewer.org.</b></div><div class=\"sk-container\" hidden><div class=\"sk-item sk-dashed-wrapped\"><div class=\"sk-label-container\"><div class=\"sk-label sk-toggleable\"><input class=\"sk-toggleable__control sk-hidden--visually\" id=\"sk-estimator-id-41\" type=\"checkbox\" ><label for=\"sk-estimator-id-41\" class=\"sk-toggleable__label sk-toggleable__label-arrow\">GridSearchCV</label><div class=\"sk-toggleable__content\"><pre>GridSearchCV(estimator=RandomForestRegressor(random_state=0),\n",
       "             param_grid={&#x27;max_depth&#x27;: [4, 6, 8, 10],\n",
       "                         &#x27;min_samples_leaf&#x27;: [5, 10, 15, 20],\n",
       "                         &#x27;n_estimators&#x27;: [10, 50, 100, 150, 200]})</pre></div></div></div><div class=\"sk-parallel\"><div class=\"sk-parallel-item\"><div class=\"sk-item\"><div class=\"sk-label-container\"><div class=\"sk-label sk-toggleable\"><input class=\"sk-toggleable__control sk-hidden--visually\" id=\"sk-estimator-id-42\" type=\"checkbox\" ><label for=\"sk-estimator-id-42\" class=\"sk-toggleable__label sk-toggleable__label-arrow\">estimator: RandomForestRegressor</label><div class=\"sk-toggleable__content\"><pre>RandomForestRegressor(random_state=0)</pre></div></div></div><div class=\"sk-serial\"><div class=\"sk-item\"><div class=\"sk-estimator sk-toggleable\"><input class=\"sk-toggleable__control sk-hidden--visually\" id=\"sk-estimator-id-43\" type=\"checkbox\" ><label for=\"sk-estimator-id-43\" class=\"sk-toggleable__label sk-toggleable__label-arrow\">RandomForestRegressor</label><div class=\"sk-toggleable__content\"><pre>RandomForestRegressor(random_state=0)</pre></div></div></div></div></div></div></div></div></div></div>"
      ],
      "text/plain": [
       "GridSearchCV(estimator=RandomForestRegressor(random_state=0),\n",
       "             param_grid={'max_depth': [4, 6, 8, 10],\n",
       "                         'min_samples_leaf': [5, 10, 15, 20],\n",
       "                         'n_estimators': [10, 50, 100, 150, 200]})"
      ]
     },
     "execution_count": 1712,
     "metadata": {},
     "output_type": "execute_result"
    }
   ],
   "source": [
    "# Optimización del modelo:\n",
    "\n",
    "grid_forest.fit(X3_train_sc, y3_train)"
   ]
  },
  {
   "cell_type": "code",
   "execution_count": 1713,
   "id": "b0a65317-c6cf-484e-b7a0-25231e79ae41",
   "metadata": {
    "tags": []
   },
   "outputs": [
    {
     "data": {
      "text/plain": [
       "{'max_depth': 10, 'min_samples_leaf': 5, 'n_estimators': 200}"
      ]
     },
     "execution_count": 1713,
     "metadata": {},
     "output_type": "execute_result"
    }
   ],
   "source": [
    "grid_forest.best_params_"
   ]
  },
  {
   "cell_type": "code",
   "execution_count": 1714,
   "id": "2cc50547-bdec-494d-81e2-a9fbe1b798b4",
   "metadata": {
    "tags": []
   },
   "outputs": [
    {
     "name": "stdout",
     "output_type": "stream",
     "text": [
      "RANDOM FOREST REGRESSOR (GRID):  \n",
      " RMSE_test =  0.28961127670429654\n",
      "RMSE_train =  0.28066886554614573\n"
     ]
    }
   ],
   "source": [
    "y3_pred_rfr_grid = grid_forest.best_estimator_.predict(X3_test_sc)\n",
    "rmse3_rfr_grid = mean_squared_error(y3_test, y3_pred_rfr_grid, squared = False)\n",
    "y3_pt_rfr_grid = grid_forest.best_estimator_.predict(X3_train_sc)\n",
    "rmse3_rfr_tr_grid = mean_squared_error(y3_train, y3_pt_rfr_grid, squared = False)\n",
    "print(\"RANDOM FOREST REGRESSOR (GRID): \", \"\\n\", \"RMSE_test = \", rmse3_rfr_grid)\n",
    "print(\"RMSE_train = \", rmse3_rfr_tr_grid)"
   ]
  },
  {
   "cell_type": "code",
   "execution_count": null,
   "id": "64c38283-737f-4799-99c1-49db489a9cda",
   "metadata": {},
   "outputs": [],
   "source": [
    "# Tras añadir los datos predichos a partir de las filas con rate = NaN, el modelo mejora su métrica RMSE,\n",
    "# lo cual es de esperarse pues los datos añadidos orvienen justamente de su propia predicción."
   ]
  }
 ],
 "metadata": {
  "kernelspec": {
   "display_name": "Python 3 (ipykernel)",
   "language": "python",
   "name": "python3"
  },
  "language_info": {
   "codemirror_mode": {
    "name": "ipython",
    "version": 3
   },
   "file_extension": ".py",
   "mimetype": "text/x-python",
   "name": "python",
   "nbconvert_exporter": "python",
   "pygments_lexer": "ipython3",
   "version": "3.10.15"
  }
 },
 "nbformat": 4,
 "nbformat_minor": 5
}
